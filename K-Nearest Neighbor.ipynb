{
 "cells": [
  {
   "cell_type": "code",
   "execution_count": 1,
   "id": "fe904091",
   "metadata": {},
   "outputs": [
    {
     "name": "stdout",
     "output_type": "stream",
     "text": [
      "Requirement already satisfied: numpy in c:\\programdata\\anaconda3\\lib\\site-packages (1.21.2)\n",
      "Requirement already satisfied: scipy in c:\\programdata\\anaconda3\\lib\\site-packages (1.7.1)\n",
      "Requirement already satisfied: numpy<1.23.0,>=1.16.5 in c:\\programdata\\anaconda3\\lib\\site-packages (from scipy) (1.21.2)\n",
      "Requirement already satisfied: sklearn in c:\\programdata\\anaconda3\\lib\\site-packages (0.0)\n",
      "Requirement already satisfied: scikit-learn in c:\\programdata\\anaconda3\\lib\\site-packages (from sklearn) (1.0.1)\n",
      "Requirement already satisfied: threadpoolctl>=2.0.0 in c:\\programdata\\anaconda3\\lib\\site-packages (from scikit-learn->sklearn) (3.0.0)\n",
      "Requirement already satisfied: joblib>=0.11 in c:\\programdata\\anaconda3\\lib\\site-packages (from scikit-learn->sklearn) (1.1.0)\n",
      "Requirement already satisfied: scipy>=1.1.0 in c:\\programdata\\anaconda3\\lib\\site-packages (from scikit-learn->sklearn) (1.7.1)\n",
      "Requirement already satisfied: numpy>=1.14.6 in c:\\programdata\\anaconda3\\lib\\site-packages (from scikit-learn->sklearn) (1.21.2)\n",
      "Requirement already satisfied: matplotlib in c:\\programdata\\anaconda3\\lib\\site-packages (3.5.0)\n",
      "Requirement already satisfied: fonttools>=4.22.0 in c:\\programdata\\anaconda3\\lib\\site-packages (from matplotlib) (4.25.0)\n",
      "Requirement already satisfied: pillow>=6.2.0 in c:\\programdata\\anaconda3\\lib\\site-packages (from matplotlib) (8.4.0)\n",
      "Requirement already satisfied: kiwisolver>=1.0.1 in c:\\programdata\\anaconda3\\lib\\site-packages (from matplotlib) (1.3.1)\n",
      "Requirement already satisfied: pyparsing>=2.2.1 in c:\\programdata\\anaconda3\\lib\\site-packages (from matplotlib) (3.0.4)\n",
      "Requirement already satisfied: packaging>=20.0 in c:\\programdata\\anaconda3\\lib\\site-packages (from matplotlib) (21.3)\n",
      "Requirement already satisfied: cycler>=0.10 in c:\\programdata\\anaconda3\\lib\\site-packages (from matplotlib) (0.11.0)\n",
      "Requirement already satisfied: python-dateutil>=2.7 in c:\\programdata\\anaconda3\\lib\\site-packages (from matplotlib) (2.8.2)\n",
      "Requirement already satisfied: numpy>=1.17 in c:\\programdata\\anaconda3\\lib\\site-packages (from matplotlib) (1.21.2)\n",
      "Requirement already satisfied: six>=1.5 in c:\\programdata\\anaconda3\\lib\\site-packages (from python-dateutil>=2.7->matplotlib) (1.16.0)\n",
      "Requirement already satisfied: seaborn in c:\\programdata\\anaconda3\\lib\\site-packages (0.11.2)\n",
      "Requirement already satisfied: scipy>=1.0 in c:\\programdata\\anaconda3\\lib\\site-packages (from seaborn) (1.7.1)\n",
      "Requirement already satisfied: pandas>=0.23 in c:\\programdata\\anaconda3\\lib\\site-packages (from seaborn) (1.3.4)\n",
      "Requirement already satisfied: numpy>=1.15 in c:\\programdata\\anaconda3\\lib\\site-packages (from seaborn) (1.21.2)\n",
      "Requirement already satisfied: matplotlib>=2.2 in c:\\programdata\\anaconda3\\lib\\site-packages (from seaborn) (3.5.0)\n",
      "Requirement already satisfied: kiwisolver>=1.0.1 in c:\\programdata\\anaconda3\\lib\\site-packages (from matplotlib>=2.2->seaborn) (1.3.1)\n",
      "Requirement already satisfied: packaging>=20.0 in c:\\programdata\\anaconda3\\lib\\site-packages (from matplotlib>=2.2->seaborn) (21.3)\n",
      "Requirement already satisfied: cycler>=0.10 in c:\\programdata\\anaconda3\\lib\\site-packages (from matplotlib>=2.2->seaborn) (0.11.0)\n",
      "Requirement already satisfied: python-dateutil>=2.7 in c:\\programdata\\anaconda3\\lib\\site-packages (from matplotlib>=2.2->seaborn) (2.8.2)\n",
      "Requirement already satisfied: pillow>=6.2.0 in c:\\programdata\\anaconda3\\lib\\site-packages (from matplotlib>=2.2->seaborn) (8.4.0)\n",
      "Requirement already satisfied: pyparsing>=2.2.1 in c:\\programdata\\anaconda3\\lib\\site-packages (from matplotlib>=2.2->seaborn) (3.0.4)\n",
      "Requirement already satisfied: fonttools>=4.22.0 in c:\\programdata\\anaconda3\\lib\\site-packages (from matplotlib>=2.2->seaborn) (4.25.0)\n",
      "Requirement already satisfied: pytz>=2017.3 in c:\\programdata\\anaconda3\\lib\\site-packages (from pandas>=0.23->seaborn) (2021.3)\n",
      "Requirement already satisfied: six>=1.5 in c:\\programdata\\anaconda3\\lib\\site-packages (from python-dateutil>=2.7->matplotlib>=2.2->seaborn) (1.16.0)\n",
      "Requirement already satisfied: pandas in c:\\programdata\\anaconda3\\lib\\site-packages (1.3.4)\n",
      "Requirement already satisfied: pytz>=2017.3 in c:\\programdata\\anaconda3\\lib\\site-packages (from pandas) (2021.3)\n",
      "Requirement already satisfied: numpy>=1.17.3 in c:\\programdata\\anaconda3\\lib\\site-packages (from pandas) (1.21.2)\n",
      "Requirement already satisfied: python-dateutil>=2.7.3 in c:\\programdata\\anaconda3\\lib\\site-packages (from pandas) (2.8.2)\n",
      "Requirement already satisfied: six>=1.5 in c:\\programdata\\anaconda3\\lib\\site-packages (from python-dateutil>=2.7.3->pandas) (1.16.0)\n"
     ]
    }
   ],
   "source": [
    "# Install and ensure we have the libraries needed.\n",
    "!pip install numpy\n",
    "!pip install scipy\n",
    "!pip install sklearn\n",
    "!pip install matplotlib\n",
    "!pip install seaborn\n",
    "!pip install pandas"
   ]
  },
  {
   "cell_type": "code",
   "execution_count": 2,
   "id": "07342f69",
   "metadata": {},
   "outputs": [],
   "source": [
    "# Import libraries needed.\n",
    "import numpy as np\n",
    "import pandas as pd\n",
    "import scipy.stats as stats\n",
    "import matplotlib.pyplot as plt\n",
    "import seaborn as sns\n",
    "\n",
    "from sklearn.metrics import roc_auc_score, classification_report, accuracy_score,f1_score\n",
    "from sklearn.model_selection import train_test_split,cross_val_score, GridSearchCV\n",
    "from sklearn.metrics import confusion_matrix as cm\n",
    "from sklearn.neighbors import KNeighborsClassifier\n",
    "from sklearn.preprocessing import StandardScaler\n",
    "from sklearn.pipeline import Pipeline\n",
    "from sklearn import neighbors "
   ]
  },
  {
   "cell_type": "code",
   "execution_count": 3,
   "id": "dac7382e",
   "metadata": {
    "scrolled": true
   },
   "outputs": [
    {
     "name": "stdout",
     "output_type": "stream",
     "text": [
      "      Unnamed: 0  CaseOrder Customer_id                           Interaction  \\\n",
      "0              1          1     K409198  aa90260b-4141-4a24-8e36-b04ce1f4f77b   \n",
      "1              2          2     S120509  fb76459f-c047-4a9d-8af9-e0f7d4ac2524   \n",
      "2              3          3     K191035  344d114c-3736-4be5-98f7-c72c281e2d35   \n",
      "3              4          4      D90850  abfa2b40-2d43-4994-b15a-989b8c79e311   \n",
      "4              5          5     K662701  68a861fd-0d20-4e51-a587-8a90407ee574   \n",
      "...          ...        ...         ...                                   ...   \n",
      "9995        9996       9996     M324793  45deb5a2-ae04-4518-bf0b-c82db8dbe4a4   \n",
      "9996        9997       9997     D861732  6e96b921-0c09-4993-bbda-a1ac6411061a   \n",
      "9997        9998       9998     I243405  e8307ddf-9a01-4fff-bc59-4742e03fd24f   \n",
      "9998        9999       9999     I641617  3775ccfc-0052-4107-81ae-9657f81ecdf3   \n",
      "9999       10000      10000      T38070  9de5fb6e-bd33-4995-aec8-f01d0172a499   \n",
      "\n",
      "              City State                 County    Zip       Lat        Lng  \\\n",
      "0      Point Baker    AK  Prince of Wales-Hyder  99927  56.25100 -133.37571   \n",
      "1      West Branch    MI                 Ogemaw  48661  44.32893  -84.24080   \n",
      "2          Yamhill    OR                Yamhill  97148  45.35589 -123.24657   \n",
      "3          Del Mar    CA              San Diego  92014  32.96687 -117.24798   \n",
      "4        Needville    TX              Fort Bend  77461  29.38012  -95.80673   \n",
      "...            ...   ...                    ...    ...       ...        ...   \n",
      "9995   Mount Holly    VT                Rutland   5758  43.43391  -72.78734   \n",
      "9996   Clarksville    TN             Montgomery  37042  36.56907  -87.41694   \n",
      "9997      Mobeetie    TX                Wheeler  79061  35.52039 -100.44180   \n",
      "9998    Carrollton    GA                Carroll  30117  33.58016  -85.13241   \n",
      "9999  Clarkesville    GA              Habersham  30523  34.70783  -83.53648   \n",
      "\n",
      "      ...  MonthlyCharge Bandwidth_GB_Year item1 item2  item3  item4 item5  \\\n",
      "0     ...     171.449762        904.536110     5     5      5      3     4   \n",
      "1     ...     242.948015        800.982766     3     4      3      3     4   \n",
      "2     ...     159.440398       2054.706961     4     4      2      4     4   \n",
      "3     ...     120.249493       2164.579412     4     4      4      2     5   \n",
      "4     ...     150.761216        271.493436     4     4      4      3     4   \n",
      "...   ...            ...               ...   ...   ...    ...    ...   ...   \n",
      "9995  ...     159.828800       6511.253000     3     2      3      3     4   \n",
      "9996  ...     208.856400       5695.952000     4     5      5      4     4   \n",
      "9997  ...     168.220900       4159.306000     4     4      4      4     4   \n",
      "9998  ...     252.628600       6468.457000     4     4      6      4     3   \n",
      "9999  ...     218.371000       5857.586000     2     2      3      3     3   \n",
      "\n",
      "     item6  item7 item8  \n",
      "0        4      3     4  \n",
      "1        3      4     4  \n",
      "2        3      3     3  \n",
      "3        4      3     3  \n",
      "4        4      4     5  \n",
      "...    ...    ...   ...  \n",
      "9995     3      2     3  \n",
      "9996     5      2     5  \n",
      "9997     4      4     5  \n",
      "9998     3      5     4  \n",
      "9999     3      4     1  \n",
      "\n",
      "[10000 rows x 52 columns]\n"
     ]
    }
   ],
   "source": [
    "#Import the raw dataset into Pandas and display it.\n",
    "df=pd.read_csv('churn_raw_data.csv')\n",
    "print(df)"
   ]
  },
  {
   "cell_type": "code",
   "execution_count": 4,
   "id": "da742b4e",
   "metadata": {},
   "outputs": [
    {
     "name": "stdout",
     "output_type": "stream",
     "text": [
      "(10000, 52)\n"
     ]
    }
   ],
   "source": [
    "#List total number of entries in dataset (RowsxColumn).\n",
    "print(df.shape)"
   ]
  },
  {
   "cell_type": "code",
   "execution_count": 5,
   "id": "bd43e776",
   "metadata": {
    "scrolled": true
   },
   "outputs": [
    {
     "name": "stdout",
     "output_type": "stream",
     "text": [
      "Unnamed: 0                int64\n",
      "CaseOrder                 int64\n",
      "Customer_id              object\n",
      "Interaction              object\n",
      "City                     object\n",
      "State                    object\n",
      "County                   object\n",
      "Zip                       int64\n",
      "Lat                     float64\n",
      "Lng                     float64\n",
      "Population                int64\n",
      "Area                     object\n",
      "Timezone                 object\n",
      "Job                      object\n",
      "Children                float64\n",
      "Age                     float64\n",
      "Education                object\n",
      "Employment               object\n",
      "Income                  float64\n",
      "Marital                  object\n",
      "Gender                   object\n",
      "Churn                    object\n",
      "Outage_sec_perweek      float64\n",
      "Email                     int64\n",
      "Contacts                  int64\n",
      "Yearly_equip_failure      int64\n",
      "Techie                   object\n",
      "Contract                 object\n",
      "Port_modem               object\n",
      "Tablet                   object\n",
      "InternetService          object\n",
      "Phone                    object\n",
      "Multiple                 object\n",
      "OnlineSecurity           object\n",
      "OnlineBackup             object\n",
      "DeviceProtection         object\n",
      "TechSupport              object\n",
      "StreamingTV              object\n",
      "StreamingMovies          object\n",
      "PaperlessBilling         object\n",
      "PaymentMethod            object\n",
      "Tenure                  float64\n",
      "MonthlyCharge           float64\n",
      "Bandwidth_GB_Year       float64\n",
      "item1                     int64\n",
      "item2                     int64\n",
      "item3                     int64\n",
      "item4                     int64\n",
      "item5                     int64\n",
      "item6                     int64\n",
      "item7                     int64\n",
      "item8                     int64\n",
      "dtype: object\n"
     ]
    }
   ],
   "source": [
    "#Display the datatype for each column.\n",
    "print(df.dtypes)"
   ]
  },
  {
   "cell_type": "code",
   "execution_count": 6,
   "id": "a3dd2cac",
   "metadata": {
    "scrolled": true
   },
   "outputs": [
    {
     "name": "stdout",
     "output_type": "stream",
     "text": [
      "Unnamed: 0                 0\n",
      "CaseOrder                  0\n",
      "Customer_id                0\n",
      "Interaction                0\n",
      "City                       0\n",
      "State                      0\n",
      "County                     0\n",
      "Zip                        0\n",
      "Lat                        0\n",
      "Lng                        0\n",
      "Population                 0\n",
      "Area                       0\n",
      "Timezone                   0\n",
      "Job                        0\n",
      "Children                2495\n",
      "Age                     2475\n",
      "Education                  0\n",
      "Employment                 0\n",
      "Income                  2490\n",
      "Marital                    0\n",
      "Gender                     0\n",
      "Churn                      0\n",
      "Outage_sec_perweek         0\n",
      "Email                      0\n",
      "Contacts                   0\n",
      "Yearly_equip_failure       0\n",
      "Techie                  2477\n",
      "Contract                   0\n",
      "Port_modem                 0\n",
      "Tablet                     0\n",
      "InternetService            0\n",
      "Phone                   1026\n",
      "Multiple                   0\n",
      "OnlineSecurity             0\n",
      "OnlineBackup               0\n",
      "DeviceProtection           0\n",
      "TechSupport              991\n",
      "StreamingTV                0\n",
      "StreamingMovies            0\n",
      "PaperlessBilling           0\n",
      "PaymentMethod              0\n",
      "Tenure                   931\n",
      "MonthlyCharge              0\n",
      "Bandwidth_GB_Year       1021\n",
      "item1                      0\n",
      "item2                      0\n",
      "item3                      0\n",
      "item4                      0\n",
      "item5                      0\n",
      "item6                      0\n",
      "item7                      0\n",
      "item8                      0\n",
      "dtype: int64\n"
     ]
    }
   ],
   "source": [
    "#Perform checks to see if null values exists.\n",
    "print(df.isna().sum())"
   ]
  },
  {
   "cell_type": "code",
   "execution_count": 7,
   "id": "1fe3d98c",
   "metadata": {},
   "outputs": [],
   "source": [
    "#Rename the columns named item1 item2, etc.\n",
    "df=df.rename({'item1' : 'Timely_Response',\n",
    "                    'item2' : 'Timely_Fixes',\n",
    "                    'item3' : 'Timely_Replacement',\n",
    "                    'item4' : 'Reliability',\n",
    "                    'item5' : 'Options',\n",
    "                    'item6' : 'Respectable_Response',\n",
    "                    'item7' : 'Courteous_Exchange',\n",
    "                    'item8' : 'Evidence_of_active_listening'}, axis='columns')"
   ]
  },
  {
   "cell_type": "code",
   "execution_count": 8,
   "id": "2f339a55",
   "metadata": {
    "scrolled": false
   },
   "outputs": [
    {
     "data": {
      "text/html": [
       "<div>\n",
       "<style scoped>\n",
       "    .dataframe tbody tr th:only-of-type {\n",
       "        vertical-align: middle;\n",
       "    }\n",
       "\n",
       "    .dataframe tbody tr th {\n",
       "        vertical-align: top;\n",
       "    }\n",
       "\n",
       "    .dataframe thead th {\n",
       "        text-align: right;\n",
       "    }\n",
       "</style>\n",
       "<table border=\"1\" class=\"dataframe\">\n",
       "  <thead>\n",
       "    <tr style=\"text-align: right;\">\n",
       "      <th></th>\n",
       "      <th>Income</th>\n",
       "      <th>Timely_Fixes</th>\n",
       "      <th>Timely_Replacement</th>\n",
       "      <th>Reliability</th>\n",
       "      <th>Options</th>\n",
       "      <th>Respectable_Response</th>\n",
       "      <th>Courteous_Exchange</th>\n",
       "      <th>Evidence_of_active_listening</th>\n",
       "    </tr>\n",
       "  </thead>\n",
       "  <tbody>\n",
       "    <tr>\n",
       "      <th>count</th>\n",
       "      <td>7510.000000</td>\n",
       "      <td>10000.000000</td>\n",
       "      <td>10000.000000</td>\n",
       "      <td>10000.000000</td>\n",
       "      <td>10000.000000</td>\n",
       "      <td>10000.000000</td>\n",
       "      <td>10000.000000</td>\n",
       "      <td>10000.000000</td>\n",
       "    </tr>\n",
       "    <tr>\n",
       "      <th>mean</th>\n",
       "      <td>39936.762226</td>\n",
       "      <td>3.505100</td>\n",
       "      <td>3.487000</td>\n",
       "      <td>3.497500</td>\n",
       "      <td>3.492900</td>\n",
       "      <td>3.497300</td>\n",
       "      <td>3.509500</td>\n",
       "      <td>3.495600</td>\n",
       "    </tr>\n",
       "    <tr>\n",
       "      <th>std</th>\n",
       "      <td>28358.469482</td>\n",
       "      <td>1.034641</td>\n",
       "      <td>1.027977</td>\n",
       "      <td>1.025816</td>\n",
       "      <td>1.024819</td>\n",
       "      <td>1.033586</td>\n",
       "      <td>1.028502</td>\n",
       "      <td>1.028633</td>\n",
       "    </tr>\n",
       "    <tr>\n",
       "      <th>min</th>\n",
       "      <td>740.660000</td>\n",
       "      <td>1.000000</td>\n",
       "      <td>1.000000</td>\n",
       "      <td>1.000000</td>\n",
       "      <td>1.000000</td>\n",
       "      <td>1.000000</td>\n",
       "      <td>1.000000</td>\n",
       "      <td>1.000000</td>\n",
       "    </tr>\n",
       "    <tr>\n",
       "      <th>25%</th>\n",
       "      <td>19285.522500</td>\n",
       "      <td>3.000000</td>\n",
       "      <td>3.000000</td>\n",
       "      <td>3.000000</td>\n",
       "      <td>3.000000</td>\n",
       "      <td>3.000000</td>\n",
       "      <td>3.000000</td>\n",
       "      <td>3.000000</td>\n",
       "    </tr>\n",
       "    <tr>\n",
       "      <th>50%</th>\n",
       "      <td>33186.785000</td>\n",
       "      <td>4.000000</td>\n",
       "      <td>3.000000</td>\n",
       "      <td>3.000000</td>\n",
       "      <td>3.000000</td>\n",
       "      <td>3.000000</td>\n",
       "      <td>4.000000</td>\n",
       "      <td>3.000000</td>\n",
       "    </tr>\n",
       "    <tr>\n",
       "      <th>75%</th>\n",
       "      <td>53472.395000</td>\n",
       "      <td>4.000000</td>\n",
       "      <td>4.000000</td>\n",
       "      <td>4.000000</td>\n",
       "      <td>4.000000</td>\n",
       "      <td>4.000000</td>\n",
       "      <td>4.000000</td>\n",
       "      <td>4.000000</td>\n",
       "    </tr>\n",
       "    <tr>\n",
       "      <th>max</th>\n",
       "      <td>258900.700000</td>\n",
       "      <td>7.000000</td>\n",
       "      <td>8.000000</td>\n",
       "      <td>7.000000</td>\n",
       "      <td>7.000000</td>\n",
       "      <td>8.000000</td>\n",
       "      <td>7.000000</td>\n",
       "      <td>8.000000</td>\n",
       "    </tr>\n",
       "  </tbody>\n",
       "</table>\n",
       "</div>"
      ],
      "text/plain": [
       "              Income  Timely_Fixes  Timely_Replacement   Reliability  \\\n",
       "count    7510.000000  10000.000000        10000.000000  10000.000000   \n",
       "mean    39936.762226      3.505100            3.487000      3.497500   \n",
       "std     28358.469482      1.034641            1.027977      1.025816   \n",
       "min       740.660000      1.000000            1.000000      1.000000   \n",
       "25%     19285.522500      3.000000            3.000000      3.000000   \n",
       "50%     33186.785000      4.000000            3.000000      3.000000   \n",
       "75%     53472.395000      4.000000            4.000000      4.000000   \n",
       "max    258900.700000      7.000000            8.000000      7.000000   \n",
       "\n",
       "            Options  Respectable_Response  Courteous_Exchange  \\\n",
       "count  10000.000000          10000.000000        10000.000000   \n",
       "mean       3.492900              3.497300            3.509500   \n",
       "std        1.024819              1.033586            1.028502   \n",
       "min        1.000000              1.000000            1.000000   \n",
       "25%        3.000000              3.000000            3.000000   \n",
       "50%        3.000000              3.000000            4.000000   \n",
       "75%        4.000000              4.000000            4.000000   \n",
       "max        7.000000              8.000000            7.000000   \n",
       "\n",
       "       Evidence_of_active_listening  \n",
       "count                  10000.000000  \n",
       "mean                       3.495600  \n",
       "std                        1.028633  \n",
       "min                        1.000000  \n",
       "25%                        3.000000  \n",
       "50%                        3.000000  \n",
       "75%                        4.000000  \n",
       "max                        8.000000  "
      ]
     },
     "execution_count": 8,
     "metadata": {},
     "output_type": "execute_result"
    }
   ],
   "source": [
    "#Look at the basic statistics of the dataset.\n",
    "df[['Churn', 'Area','Employment','Income','Contract',\n",
    "        'Timely_Fixes','Timely_Replacement','Reliability','Options',\n",
    "        'Respectable_Response','Courteous_Exchange','Evidence_of_active_listening']].describe()"
   ]
  },
  {
   "cell_type": "code",
   "execution_count": 9,
   "id": "b8f77ff8",
   "metadata": {
    "scrolled": true
   },
   "outputs": [
    {
     "data": {
      "text/html": [
       "<div>\n",
       "<style scoped>\n",
       "    .dataframe tbody tr th:only-of-type {\n",
       "        vertical-align: middle;\n",
       "    }\n",
       "\n",
       "    .dataframe tbody tr th {\n",
       "        vertical-align: top;\n",
       "    }\n",
       "\n",
       "    .dataframe thead th {\n",
       "        text-align: right;\n",
       "    }\n",
       "</style>\n",
       "<table border=\"1\" class=\"dataframe\">\n",
       "  <thead>\n",
       "    <tr style=\"text-align: right;\">\n",
       "      <th></th>\n",
       "      <th>Area</th>\n",
       "      <th>Employment</th>\n",
       "      <th>Income</th>\n",
       "      <th>Churn</th>\n",
       "      <th>Contract</th>\n",
       "      <th>InternetService</th>\n",
       "      <th>Phone</th>\n",
       "      <th>Multiple</th>\n",
       "      <th>OnlineSecurity</th>\n",
       "      <th>OnlineBackup</th>\n",
       "      <th>...</th>\n",
       "      <th>StreamingTV</th>\n",
       "      <th>StreamingMovies</th>\n",
       "      <th>Timely_Response</th>\n",
       "      <th>Timely_Fixes</th>\n",
       "      <th>Timely_Replacement</th>\n",
       "      <th>Reliability</th>\n",
       "      <th>Options</th>\n",
       "      <th>Respectable_Response</th>\n",
       "      <th>Courteous_Exchange</th>\n",
       "      <th>Evidence_of_active_listening</th>\n",
       "    </tr>\n",
       "  </thead>\n",
       "  <tbody>\n",
       "    <tr>\n",
       "      <th>0</th>\n",
       "      <td>Urban</td>\n",
       "      <td>Part Time</td>\n",
       "      <td>28561.99</td>\n",
       "      <td>No</td>\n",
       "      <td>One year</td>\n",
       "      <td>Fiber Optic</td>\n",
       "      <td>Yes</td>\n",
       "      <td>No</td>\n",
       "      <td>Yes</td>\n",
       "      <td>Yes</td>\n",
       "      <td>...</td>\n",
       "      <td>No</td>\n",
       "      <td>Yes</td>\n",
       "      <td>5</td>\n",
       "      <td>5</td>\n",
       "      <td>5</td>\n",
       "      <td>3</td>\n",
       "      <td>4</td>\n",
       "      <td>4</td>\n",
       "      <td>3</td>\n",
       "      <td>4</td>\n",
       "    </tr>\n",
       "    <tr>\n",
       "      <th>1</th>\n",
       "      <td>Urban</td>\n",
       "      <td>Retired</td>\n",
       "      <td>21704.77</td>\n",
       "      <td>Yes</td>\n",
       "      <td>Month-to-month</td>\n",
       "      <td>Fiber Optic</td>\n",
       "      <td>Yes</td>\n",
       "      <td>Yes</td>\n",
       "      <td>Yes</td>\n",
       "      <td>No</td>\n",
       "      <td>...</td>\n",
       "      <td>Yes</td>\n",
       "      <td>Yes</td>\n",
       "      <td>3</td>\n",
       "      <td>4</td>\n",
       "      <td>3</td>\n",
       "      <td>3</td>\n",
       "      <td>4</td>\n",
       "      <td>3</td>\n",
       "      <td>4</td>\n",
       "      <td>4</td>\n",
       "    </tr>\n",
       "    <tr>\n",
       "      <th>2</th>\n",
       "      <td>Urban</td>\n",
       "      <td>Student</td>\n",
       "      <td>NaN</td>\n",
       "      <td>No</td>\n",
       "      <td>Two Year</td>\n",
       "      <td>DSL</td>\n",
       "      <td>Yes</td>\n",
       "      <td>Yes</td>\n",
       "      <td>No</td>\n",
       "      <td>No</td>\n",
       "      <td>...</td>\n",
       "      <td>No</td>\n",
       "      <td>Yes</td>\n",
       "      <td>4</td>\n",
       "      <td>4</td>\n",
       "      <td>2</td>\n",
       "      <td>4</td>\n",
       "      <td>4</td>\n",
       "      <td>3</td>\n",
       "      <td>3</td>\n",
       "      <td>3</td>\n",
       "    </tr>\n",
       "    <tr>\n",
       "      <th>3</th>\n",
       "      <td>Suburban</td>\n",
       "      <td>Retired</td>\n",
       "      <td>18925.23</td>\n",
       "      <td>No</td>\n",
       "      <td>Two Year</td>\n",
       "      <td>DSL</td>\n",
       "      <td>Yes</td>\n",
       "      <td>No</td>\n",
       "      <td>Yes</td>\n",
       "      <td>No</td>\n",
       "      <td>...</td>\n",
       "      <td>Yes</td>\n",
       "      <td>No</td>\n",
       "      <td>4</td>\n",
       "      <td>4</td>\n",
       "      <td>4</td>\n",
       "      <td>2</td>\n",
       "      <td>5</td>\n",
       "      <td>4</td>\n",
       "      <td>3</td>\n",
       "      <td>3</td>\n",
       "    </tr>\n",
       "    <tr>\n",
       "      <th>4</th>\n",
       "      <td>Suburban</td>\n",
       "      <td>Student</td>\n",
       "      <td>40074.19</td>\n",
       "      <td>Yes</td>\n",
       "      <td>Month-to-month</td>\n",
       "      <td>Fiber Optic</td>\n",
       "      <td>No</td>\n",
       "      <td>No</td>\n",
       "      <td>No</td>\n",
       "      <td>No</td>\n",
       "      <td>...</td>\n",
       "      <td>Yes</td>\n",
       "      <td>No</td>\n",
       "      <td>4</td>\n",
       "      <td>4</td>\n",
       "      <td>4</td>\n",
       "      <td>3</td>\n",
       "      <td>4</td>\n",
       "      <td>4</td>\n",
       "      <td>4</td>\n",
       "      <td>5</td>\n",
       "    </tr>\n",
       "    <tr>\n",
       "      <th>...</th>\n",
       "      <td>...</td>\n",
       "      <td>...</td>\n",
       "      <td>...</td>\n",
       "      <td>...</td>\n",
       "      <td>...</td>\n",
       "      <td>...</td>\n",
       "      <td>...</td>\n",
       "      <td>...</td>\n",
       "      <td>...</td>\n",
       "      <td>...</td>\n",
       "      <td>...</td>\n",
       "      <td>...</td>\n",
       "      <td>...</td>\n",
       "      <td>...</td>\n",
       "      <td>...</td>\n",
       "      <td>...</td>\n",
       "      <td>...</td>\n",
       "      <td>...</td>\n",
       "      <td>...</td>\n",
       "      <td>...</td>\n",
       "      <td>...</td>\n",
       "    </tr>\n",
       "    <tr>\n",
       "      <th>9995</th>\n",
       "      <td>Rural</td>\n",
       "      <td>Retired</td>\n",
       "      <td>55723.74</td>\n",
       "      <td>No</td>\n",
       "      <td>Month-to-month</td>\n",
       "      <td>DSL</td>\n",
       "      <td>NaN</td>\n",
       "      <td>Yes</td>\n",
       "      <td>No</td>\n",
       "      <td>Yes</td>\n",
       "      <td>...</td>\n",
       "      <td>No</td>\n",
       "      <td>No</td>\n",
       "      <td>3</td>\n",
       "      <td>2</td>\n",
       "      <td>3</td>\n",
       "      <td>3</td>\n",
       "      <td>4</td>\n",
       "      <td>3</td>\n",
       "      <td>2</td>\n",
       "      <td>3</td>\n",
       "    </tr>\n",
       "    <tr>\n",
       "      <th>9996</th>\n",
       "      <td>Rural</td>\n",
       "      <td>Part Time</td>\n",
       "      <td>NaN</td>\n",
       "      <td>No</td>\n",
       "      <td>Two Year</td>\n",
       "      <td>Fiber Optic</td>\n",
       "      <td>NaN</td>\n",
       "      <td>Yes</td>\n",
       "      <td>Yes</td>\n",
       "      <td>Yes</td>\n",
       "      <td>...</td>\n",
       "      <td>Yes</td>\n",
       "      <td>No</td>\n",
       "      <td>4</td>\n",
       "      <td>5</td>\n",
       "      <td>5</td>\n",
       "      <td>4</td>\n",
       "      <td>4</td>\n",
       "      <td>5</td>\n",
       "      <td>2</td>\n",
       "      <td>5</td>\n",
       "    </tr>\n",
       "    <tr>\n",
       "      <th>9997</th>\n",
       "      <td>Rural</td>\n",
       "      <td>Full Time</td>\n",
       "      <td>NaN</td>\n",
       "      <td>No</td>\n",
       "      <td>Month-to-month</td>\n",
       "      <td>Fiber Optic</td>\n",
       "      <td>Yes</td>\n",
       "      <td>Yes</td>\n",
       "      <td>Yes</td>\n",
       "      <td>Yes</td>\n",
       "      <td>...</td>\n",
       "      <td>No</td>\n",
       "      <td>No</td>\n",
       "      <td>4</td>\n",
       "      <td>4</td>\n",
       "      <td>4</td>\n",
       "      <td>4</td>\n",
       "      <td>4</td>\n",
       "      <td>4</td>\n",
       "      <td>4</td>\n",
       "      <td>5</td>\n",
       "    </tr>\n",
       "    <tr>\n",
       "      <th>9998</th>\n",
       "      <td>Urban</td>\n",
       "      <td>Full Time</td>\n",
       "      <td>16667.58</td>\n",
       "      <td>No</td>\n",
       "      <td>Two Year</td>\n",
       "      <td>Fiber Optic</td>\n",
       "      <td>No</td>\n",
       "      <td>Yes</td>\n",
       "      <td>No</td>\n",
       "      <td>No</td>\n",
       "      <td>...</td>\n",
       "      <td>Yes</td>\n",
       "      <td>Yes</td>\n",
       "      <td>4</td>\n",
       "      <td>4</td>\n",
       "      <td>6</td>\n",
       "      <td>4</td>\n",
       "      <td>3</td>\n",
       "      <td>3</td>\n",
       "      <td>5</td>\n",
       "      <td>4</td>\n",
       "    </tr>\n",
       "    <tr>\n",
       "      <th>9999</th>\n",
       "      <td>Urban</td>\n",
       "      <td>Full Time</td>\n",
       "      <td>NaN</td>\n",
       "      <td>No</td>\n",
       "      <td>Month-to-month</td>\n",
       "      <td>Fiber Optic</td>\n",
       "      <td>Yes</td>\n",
       "      <td>Yes</td>\n",
       "      <td>Yes</td>\n",
       "      <td>Yes</td>\n",
       "      <td>...</td>\n",
       "      <td>No</td>\n",
       "      <td>Yes</td>\n",
       "      <td>2</td>\n",
       "      <td>2</td>\n",
       "      <td>3</td>\n",
       "      <td>3</td>\n",
       "      <td>3</td>\n",
       "      <td>3</td>\n",
       "      <td>4</td>\n",
       "      <td>1</td>\n",
       "    </tr>\n",
       "  </tbody>\n",
       "</table>\n",
       "<p>10000 rows × 22 columns</p>\n",
       "</div>"
      ],
      "text/plain": [
       "          Area Employment    Income Churn        Contract InternetService  \\\n",
       "0        Urban  Part Time  28561.99    No        One year     Fiber Optic   \n",
       "1        Urban    Retired  21704.77   Yes  Month-to-month     Fiber Optic   \n",
       "2        Urban    Student       NaN    No        Two Year             DSL   \n",
       "3     Suburban    Retired  18925.23    No        Two Year             DSL   \n",
       "4     Suburban    Student  40074.19   Yes  Month-to-month     Fiber Optic   \n",
       "...        ...        ...       ...   ...             ...             ...   \n",
       "9995     Rural    Retired  55723.74    No  Month-to-month             DSL   \n",
       "9996     Rural  Part Time       NaN    No        Two Year     Fiber Optic   \n",
       "9997     Rural  Full Time       NaN    No  Month-to-month     Fiber Optic   \n",
       "9998     Urban  Full Time  16667.58    No        Two Year     Fiber Optic   \n",
       "9999     Urban  Full Time       NaN    No  Month-to-month     Fiber Optic   \n",
       "\n",
       "     Phone Multiple OnlineSecurity OnlineBackup  ... StreamingTV  \\\n",
       "0      Yes       No            Yes          Yes  ...          No   \n",
       "1      Yes      Yes            Yes           No  ...         Yes   \n",
       "2      Yes      Yes             No           No  ...          No   \n",
       "3      Yes       No            Yes           No  ...         Yes   \n",
       "4       No       No             No           No  ...         Yes   \n",
       "...    ...      ...            ...          ...  ...         ...   \n",
       "9995   NaN      Yes             No          Yes  ...          No   \n",
       "9996   NaN      Yes            Yes          Yes  ...         Yes   \n",
       "9997   Yes      Yes            Yes          Yes  ...          No   \n",
       "9998    No      Yes             No           No  ...         Yes   \n",
       "9999   Yes      Yes            Yes          Yes  ...          No   \n",
       "\n",
       "     StreamingMovies Timely_Response Timely_Fixes  Timely_Replacement  \\\n",
       "0                Yes               5            5                   5   \n",
       "1                Yes               3            4                   3   \n",
       "2                Yes               4            4                   2   \n",
       "3                 No               4            4                   4   \n",
       "4                 No               4            4                   4   \n",
       "...              ...             ...          ...                 ...   \n",
       "9995              No               3            2                   3   \n",
       "9996              No               4            5                   5   \n",
       "9997              No               4            4                   4   \n",
       "9998             Yes               4            4                   6   \n",
       "9999             Yes               2            2                   3   \n",
       "\n",
       "      Reliability  Options  Respectable_Response  Courteous_Exchange  \\\n",
       "0               3        4                     4                   3   \n",
       "1               3        4                     3                   4   \n",
       "2               4        4                     3                   3   \n",
       "3               2        5                     4                   3   \n",
       "4               3        4                     4                   4   \n",
       "...           ...      ...                   ...                 ...   \n",
       "9995            3        4                     3                   2   \n",
       "9996            4        4                     5                   2   \n",
       "9997            4        4                     4                   4   \n",
       "9998            4        3                     3                   5   \n",
       "9999            3        3                     3                   4   \n",
       "\n",
       "      Evidence_of_active_listening  \n",
       "0                                4  \n",
       "1                                4  \n",
       "2                                3  \n",
       "3                                3  \n",
       "4                                5  \n",
       "...                            ...  \n",
       "9995                             3  \n",
       "9996                             5  \n",
       "9997                             5  \n",
       "9998                             4  \n",
       "9999                             1  \n",
       "\n",
       "[10000 rows x 22 columns]"
      ]
     },
     "execution_count": 9,
     "metadata": {},
     "output_type": "execute_result"
    }
   ],
   "source": [
    "#Create new datafrane and drop all unused columns for our analysis\n",
    "dflog=df.drop(['Unnamed: 0','Age','CaseOrder','Customer_id','Interaction','City','State',\n",
    "               'County','Zip','Lat','Lng','Population','Timezone','Job',\n",
    "               'Children','Education','Marital', 'Outage_sec_perweek',\n",
    "               'Email','Contacts','Yearly_equip_failure', 'Gender','PaperlessBilling',\n",
    "               'MonthlyCharge','PaymentMethod',\n",
    "               'Techie','Port_modem','Tablet', 'Tenure', 'Bandwidth_GB_Year'], axis = 1)\n",
    "\n",
    "dflog"
   ]
  },
  {
   "cell_type": "code",
   "execution_count": 10,
   "id": "6d0c9ecc",
   "metadata": {
    "scrolled": true
   },
   "outputs": [
    {
     "data": {
      "text/plain": [
       "0"
      ]
     },
     "execution_count": 10,
     "metadata": {},
     "output_type": "execute_result"
    }
   ],
   "source": [
    "#Check for duplicate rows\n",
    "dflog.duplicated().sum()"
   ]
  },
  {
   "cell_type": "code",
   "execution_count": 11,
   "id": "db0b1677",
   "metadata": {},
   "outputs": [],
   "source": [
    "#Drop duplicate rows\n",
    "dflog=dflog.drop_duplicates(keep='first')"
   ]
  },
  {
   "cell_type": "code",
   "execution_count": 12,
   "id": "b6cc9c21",
   "metadata": {},
   "outputs": [
    {
     "data": {
      "text/plain": [
       "array([False])"
      ]
     },
     "execution_count": 12,
     "metadata": {},
     "output_type": "execute_result"
    }
   ],
   "source": [
    "#Check for duplicate rows\n",
    "dflog.duplicated().unique()"
   ]
  },
  {
   "cell_type": "code",
   "execution_count": 13,
   "id": "47841b34",
   "metadata": {},
   "outputs": [
    {
     "data": {
      "text/plain": [
       "array(['No', 'Yes'], dtype=object)"
      ]
     },
     "execution_count": 13,
     "metadata": {},
     "output_type": "execute_result"
    }
   ],
   "source": [
    "#Next we look at the unique string value from categorical columns that can be potentially recoded.\n",
    "#A potential variable is any variable that is: easily understood, easily describable and can be methodologically recoded.\n",
    "dflog['Churn'].unique()"
   ]
  },
  {
   "cell_type": "code",
   "execution_count": 14,
   "id": "710c90f5",
   "metadata": {},
   "outputs": [
    {
     "data": {
      "text/plain": [
       "array(['Urban', 'Suburban', 'Rural'], dtype=object)"
      ]
     },
     "execution_count": 14,
     "metadata": {},
     "output_type": "execute_result"
    }
   ],
   "source": [
    "dflog['Area'].unique()"
   ]
  },
  {
   "cell_type": "code",
   "execution_count": 15,
   "id": "705d89eb",
   "metadata": {
    "scrolled": true
   },
   "outputs": [
    {
     "data": {
      "text/plain": [
       "array(['Part Time', 'Retired', 'Student', 'Full Time', 'Unemployed'],\n",
       "      dtype=object)"
      ]
     },
     "execution_count": 15,
     "metadata": {},
     "output_type": "execute_result"
    }
   ],
   "source": [
    "dflog['Employment'].unique()"
   ]
  },
  {
   "cell_type": "code",
   "execution_count": 16,
   "id": "1245db77",
   "metadata": {},
   "outputs": [
    {
     "data": {
      "text/plain": [
       "array(['One year', 'Month-to-month', 'Two Year'], dtype=object)"
      ]
     },
     "execution_count": 16,
     "metadata": {},
     "output_type": "execute_result"
    }
   ],
   "source": [
    "dflog['Contract'].unique()"
   ]
  },
  {
   "cell_type": "code",
   "execution_count": 17,
   "id": "269232c9",
   "metadata": {},
   "outputs": [
    {
     "data": {
      "text/plain": [
       "array(['Fiber Optic', 'DSL', 'None'], dtype=object)"
      ]
     },
     "execution_count": 17,
     "metadata": {},
     "output_type": "execute_result"
    }
   ],
   "source": [
    "dflog['InternetService'].unique()"
   ]
  },
  {
   "cell_type": "code",
   "execution_count": 18,
   "id": "368c2c78",
   "metadata": {},
   "outputs": [
    {
     "data": {
      "text/plain": [
       "array(['Yes', 'No', nan], dtype=object)"
      ]
     },
     "execution_count": 18,
     "metadata": {},
     "output_type": "execute_result"
    }
   ],
   "source": [
    "dflog['Phone'].unique()"
   ]
  },
  {
   "cell_type": "code",
   "execution_count": 19,
   "id": "db748797",
   "metadata": {},
   "outputs": [
    {
     "data": {
      "text/plain": [
       "array(['No', 'Yes'], dtype=object)"
      ]
     },
     "execution_count": 19,
     "metadata": {},
     "output_type": "execute_result"
    }
   ],
   "source": [
    "dflog['Multiple'].unique()"
   ]
  },
  {
   "cell_type": "code",
   "execution_count": 20,
   "id": "03b20a25",
   "metadata": {},
   "outputs": [
    {
     "data": {
      "text/plain": [
       "array(['Yes', 'No'], dtype=object)"
      ]
     },
     "execution_count": 20,
     "metadata": {},
     "output_type": "execute_result"
    }
   ],
   "source": [
    "dflog['OnlineSecurity'].unique()"
   ]
  },
  {
   "cell_type": "code",
   "execution_count": 21,
   "id": "be949ffd",
   "metadata": {},
   "outputs": [
    {
     "data": {
      "text/plain": [
       "array(['Yes', 'No'], dtype=object)"
      ]
     },
     "execution_count": 21,
     "metadata": {},
     "output_type": "execute_result"
    }
   ],
   "source": [
    "dflog['OnlineBackup'].unique()"
   ]
  },
  {
   "cell_type": "code",
   "execution_count": 22,
   "id": "a9483afc",
   "metadata": {},
   "outputs": [
    {
     "data": {
      "text/plain": [
       "array(['No', 'Yes'], dtype=object)"
      ]
     },
     "execution_count": 22,
     "metadata": {},
     "output_type": "execute_result"
    }
   ],
   "source": [
    "dflog['DeviceProtection'].unique()"
   ]
  },
  {
   "cell_type": "code",
   "execution_count": 23,
   "id": "5d2c2cfb",
   "metadata": {},
   "outputs": [
    {
     "data": {
      "text/plain": [
       "array(['No', 'Yes', nan], dtype=object)"
      ]
     },
     "execution_count": 23,
     "metadata": {},
     "output_type": "execute_result"
    }
   ],
   "source": [
    "dflog['TechSupport'].unique()"
   ]
  },
  {
   "cell_type": "code",
   "execution_count": 24,
   "id": "e10e67a5",
   "metadata": {},
   "outputs": [
    {
     "data": {
      "text/plain": [
       "array(['No', 'Yes'], dtype=object)"
      ]
     },
     "execution_count": 24,
     "metadata": {},
     "output_type": "execute_result"
    }
   ],
   "source": [
    "dflog['StreamingTV'].unique()"
   ]
  },
  {
   "cell_type": "code",
   "execution_count": 25,
   "id": "4814545f",
   "metadata": {},
   "outputs": [
    {
     "data": {
      "text/plain": [
       "array(['Yes', 'No'], dtype=object)"
      ]
     },
     "execution_count": 25,
     "metadata": {},
     "output_type": "execute_result"
    }
   ],
   "source": [
    "dflog['StreamingMovies'].unique()"
   ]
  },
  {
   "cell_type": "code",
   "execution_count": 26,
   "id": "b0791436",
   "metadata": {},
   "outputs": [],
   "source": [
    "#Once we know the unique values for the categorical columns we want to change,\n",
    "#we'll perform the necessary codes on them. First we'll change all binary values and the 'InternetService'\n",
    "#column to 1 or 0. \n",
    "#We'll also fill NaN value for column 'TechSupport', 'Phone' with 0 as we will assume that these\n",
    "#value were left empty as they did not apply to the customer.\n",
    "\n",
    "dflog=dflog.replace(['Yes','Fiber Optic', 'DSL','Male'],'1')\n",
    "dflog=dflog.replace(['No', 'None'],'0')\n",
    "dflog[['TechSupport', 'Phone']] = dflog[['TechSupport', 'Phone']].fillna(value=0)\n",
    "dflog=dflog.astype({'Churn': 'float64',              \n",
    "              'InternetService': 'float64', \n",
    "              'Phone': 'float64',\n",
    "              'Multiple': 'float64',\n",
    "              'OnlineSecurity': 'float64',\n",
    "              'OnlineBackup': 'float64',\n",
    "              'DeviceProtection': 'float64',\n",
    "              'TechSupport': 'float64',\n",
    "              'StreamingTV': 'float64',\n",
    "              'StreamingMovies': 'float64',})\n"
   ]
  },
  {
   "cell_type": "code",
   "execution_count": 27,
   "id": "a9a729aa",
   "metadata": {},
   "outputs": [
    {
     "name": "stdout",
     "output_type": "stream",
     "text": [
      "0       2.0\n",
      "1       2.0\n",
      "2       2.0\n",
      "3       1.0\n",
      "4       1.0\n",
      "       ... \n",
      "9995    0.0\n",
      "9996    0.0\n",
      "9997    0.0\n",
      "9998    2.0\n",
      "9999    2.0\n",
      "Name: Area, Length: 10000, dtype: float64\n"
     ]
    }
   ],
   "source": [
    "#Recode Area with 'Urban'=2, 'Suburban'=1, 'Rural'=0. Also convert datatype to float.\n",
    "dflog=dflog.replace(['Urban'] ,'2');\n",
    "dflog=dflog.replace(['Suburban'],'1');\n",
    "dflog=dflog.replace(['Rural'],'0');\n",
    "dflog=dflog.astype({'Area': 'float64'})\n",
    "print(dflog['Area'])"
   ]
  },
  {
   "cell_type": "code",
   "execution_count": 28,
   "id": "f7ffbb58",
   "metadata": {},
   "outputs": [
    {
     "name": "stdout",
     "output_type": "stream",
     "text": [
      "0       2.0\n",
      "1       4.0\n",
      "2       1.0\n",
      "3       4.0\n",
      "4       1.0\n",
      "       ... \n",
      "9995    4.0\n",
      "9996    2.0\n",
      "9997    3.0\n",
      "9998    3.0\n",
      "9999    3.0\n",
      "Name: Employment, Length: 10000, dtype: float64\n"
     ]
    }
   ],
   "source": [
    "#Recode Employment 'Retired' from 4 to 'Unemployed' at 0. Also convert datatype to float.\n",
    "\n",
    "dflog=dflog.replace(['Retired'] ,'4');\n",
    "dflog=dflog.replace(['Full Time'] ,'3');\n",
    "dflog=dflog.replace(['Part Time'] ,'2');\n",
    "dflog=dflog.replace(['Student'],'1');\n",
    "dflog=dflog.replace(['Unemployed'],'0');\n",
    "dflog=dflog.astype({'Employment': 'float64'})\n",
    "print(dflog['Employment'])"
   ]
  },
  {
   "cell_type": "code",
   "execution_count": 29,
   "id": "4ea6ee5c",
   "metadata": {},
   "outputs": [
    {
     "name": "stdout",
     "output_type": "stream",
     "text": [
      "0       1.0\n",
      "1       0.0\n",
      "2       2.0\n",
      "3       2.0\n",
      "4       0.0\n",
      "       ... \n",
      "9995    0.0\n",
      "9996    2.0\n",
      "9997    0.0\n",
      "9998    2.0\n",
      "9999    0.0\n",
      "Name: Contract, Length: 10000, dtype: float64\n"
     ]
    }
   ],
   "source": [
    "#Recode Contract with 'Two Year'=2, 'One year'=1, 'Month-to-month'=0. Also convert datatype to float.\n",
    "\n",
    "dflog=dflog.replace(['Two Year'],'2');\n",
    "dflog=dflog.replace(['One year'],'1');\n",
    "dflog=dflog.replace(['Month-to-month'],'0');\n",
    "dflog=dflog.astype({'Contract': 'float64'})\n",
    "print(dflog['Contract'])"
   ]
  },
  {
   "cell_type": "code",
   "execution_count": 30,
   "id": "5d3af962",
   "metadata": {
    "scrolled": true
   },
   "outputs": [
    {
     "name": "stdout",
     "output_type": "stream",
     "text": [
      "Area                            0\n",
      "Employment                      0\n",
      "Income                          0\n",
      "Churn                           0\n",
      "Contract                        0\n",
      "InternetService                 0\n",
      "Phone                           0\n",
      "Multiple                        0\n",
      "OnlineSecurity                  0\n",
      "OnlineBackup                    0\n",
      "DeviceProtection                0\n",
      "TechSupport                     0\n",
      "StreamingTV                     0\n",
      "StreamingMovies                 0\n",
      "Timely_Response                 0\n",
      "Timely_Fixes                    0\n",
      "Timely_Replacement              0\n",
      "Reliability                     0\n",
      "Options                         0\n",
      "Respectable_Response            0\n",
      "Courteous_Exchange              0\n",
      "Evidence_of_active_listening    0\n",
      "dtype: int64\n"
     ]
    }
   ],
   "source": [
    "#Impute missing values for 'Income', with mean values.\n",
    "#Print to see if there is still in any null values.\n",
    "dflog['Income'] = dflog['Income'].fillna(dflog['Income'].mean())\n",
    "\n",
    "print(dflog.isna().sum())"
   ]
  },
  {
   "cell_type": "code",
   "execution_count": 31,
   "id": "3d0612e9",
   "metadata": {},
   "outputs": [
    {
     "name": "stdout",
     "output_type": "stream",
     "text": [
      "0       5.0\n",
      "1       6.0\n",
      "2       4.0\n",
      "3       4.0\n",
      "4       3.0\n",
      "       ... \n",
      "9995    4.0\n",
      "9996    6.0\n",
      "9997    5.0\n",
      "9998    5.0\n",
      "9999    7.0\n",
      "Name: Sum_services, Length: 10000, dtype: float64\n"
     ]
    }
   ],
   "source": [
    "#Add up all the rows in each Service Column into a new Column called 'Sum_services'.\n",
    "\n",
    "dflog['Sum_services'] = dflog['InternetService'] + dflog['Phone'] + dflog['Multiple'] + \\\n",
    "dflog['OnlineSecurity'] +dflog['OnlineBackup'] + dflog['DeviceProtection'] +dflog['TechSupport'] +\\\n",
    "dflog['StreamingTV'] + dflog['StreamingMovies']\n",
    "\n",
    "print(dflog['Sum_services'] )"
   ]
  },
  {
   "cell_type": "code",
   "execution_count": 32,
   "id": "e5b05d2c",
   "metadata": {},
   "outputs": [],
   "source": [
    "#Remove the Services Columns as we are done with them\n",
    "dflog=dflog.drop(['InternetService','Phone','Multiple','OnlineSecurity',\n",
    "               'OnlineBackup','DeviceProtection','TechSupport','StreamingTV','StreamingMovies'], axis = 1)"
   ]
  },
  {
   "cell_type": "code",
   "execution_count": 33,
   "id": "0f87cb31",
   "metadata": {
    "scrolled": true
   },
   "outputs": [
    {
     "data": {
      "text/plain": [
       "count    10000.000000\n",
       "mean         4.626800\n",
       "std          1.423982\n",
       "min          0.000000\n",
       "25%          4.000000\n",
       "50%          5.000000\n",
       "75%          6.000000\n",
       "max          9.000000\n",
       "Name: Sum_services, dtype: float64"
      ]
     },
     "execution_count": 33,
     "metadata": {},
     "output_type": "execute_result"
    }
   ],
   "source": [
    "#Look at central tendicies of new column 'Sum_services'.\n",
    "dflog['Sum_services'].describe()"
   ]
  },
  {
   "cell_type": "code",
   "execution_count": 34,
   "id": "7b6e5dd1",
   "metadata": {
    "scrolled": true
   },
   "outputs": [
    {
     "data": {
      "text/html": [
       "<div>\n",
       "<style scoped>\n",
       "    .dataframe tbody tr th:only-of-type {\n",
       "        vertical-align: middle;\n",
       "    }\n",
       "\n",
       "    .dataframe tbody tr th {\n",
       "        vertical-align: top;\n",
       "    }\n",
       "\n",
       "    .dataframe thead th {\n",
       "        text-align: right;\n",
       "    }\n",
       "</style>\n",
       "<table border=\"1\" class=\"dataframe\">\n",
       "  <thead>\n",
       "    <tr style=\"text-align: right;\">\n",
       "      <th></th>\n",
       "      <th>Area</th>\n",
       "      <th>Employment</th>\n",
       "      <th>Income</th>\n",
       "      <th>Churn</th>\n",
       "      <th>Contract</th>\n",
       "      <th>Timely_Response</th>\n",
       "      <th>Timely_Fixes</th>\n",
       "      <th>Timely_Replacement</th>\n",
       "      <th>Reliability</th>\n",
       "      <th>Options</th>\n",
       "      <th>Respectable_Response</th>\n",
       "      <th>Courteous_Exchange</th>\n",
       "      <th>Evidence_of_active_listening</th>\n",
       "      <th>Sum_services</th>\n",
       "    </tr>\n",
       "  </thead>\n",
       "  <tbody>\n",
       "    <tr>\n",
       "      <th>count</th>\n",
       "      <td>10000.000000</td>\n",
       "      <td>10000.000000</td>\n",
       "      <td>10000.000000</td>\n",
       "      <td>10000.000000</td>\n",
       "      <td>10000.000000</td>\n",
       "      <td>10000.000000</td>\n",
       "      <td>10000.000000</td>\n",
       "      <td>10000.000000</td>\n",
       "      <td>10000.000000</td>\n",
       "      <td>10000.000000</td>\n",
       "      <td>10000.000000</td>\n",
       "      <td>10000.000000</td>\n",
       "      <td>10000.000000</td>\n",
       "      <td>10000.000000</td>\n",
       "    </tr>\n",
       "    <tr>\n",
       "      <th>mean</th>\n",
       "      <td>1.000000</td>\n",
       "      <td>2.506800</td>\n",
       "      <td>39936.762226</td>\n",
       "      <td>0.265000</td>\n",
       "      <td>0.698600</td>\n",
       "      <td>3.490800</td>\n",
       "      <td>3.505100</td>\n",
       "      <td>3.487000</td>\n",
       "      <td>3.497500</td>\n",
       "      <td>3.492900</td>\n",
       "      <td>3.497300</td>\n",
       "      <td>3.509500</td>\n",
       "      <td>3.495600</td>\n",
       "      <td>4.626800</td>\n",
       "    </tr>\n",
       "    <tr>\n",
       "      <th>std</th>\n",
       "      <td>0.815761</td>\n",
       "      <td>1.113408</td>\n",
       "      <td>24575.114845</td>\n",
       "      <td>0.441355</td>\n",
       "      <td>0.836079</td>\n",
       "      <td>1.037797</td>\n",
       "      <td>1.034641</td>\n",
       "      <td>1.027977</td>\n",
       "      <td>1.025816</td>\n",
       "      <td>1.024819</td>\n",
       "      <td>1.033586</td>\n",
       "      <td>1.028502</td>\n",
       "      <td>1.028633</td>\n",
       "      <td>1.423982</td>\n",
       "    </tr>\n",
       "    <tr>\n",
       "      <th>min</th>\n",
       "      <td>0.000000</td>\n",
       "      <td>0.000000</td>\n",
       "      <td>740.660000</td>\n",
       "      <td>0.000000</td>\n",
       "      <td>0.000000</td>\n",
       "      <td>1.000000</td>\n",
       "      <td>1.000000</td>\n",
       "      <td>1.000000</td>\n",
       "      <td>1.000000</td>\n",
       "      <td>1.000000</td>\n",
       "      <td>1.000000</td>\n",
       "      <td>1.000000</td>\n",
       "      <td>1.000000</td>\n",
       "      <td>0.000000</td>\n",
       "    </tr>\n",
       "    <tr>\n",
       "      <th>25%</th>\n",
       "      <td>0.000000</td>\n",
       "      <td>2.000000</td>\n",
       "      <td>23660.790000</td>\n",
       "      <td>0.000000</td>\n",
       "      <td>0.000000</td>\n",
       "      <td>3.000000</td>\n",
       "      <td>3.000000</td>\n",
       "      <td>3.000000</td>\n",
       "      <td>3.000000</td>\n",
       "      <td>3.000000</td>\n",
       "      <td>3.000000</td>\n",
       "      <td>3.000000</td>\n",
       "      <td>3.000000</td>\n",
       "      <td>4.000000</td>\n",
       "    </tr>\n",
       "    <tr>\n",
       "      <th>50%</th>\n",
       "      <td>1.000000</td>\n",
       "      <td>3.000000</td>\n",
       "      <td>39936.762226</td>\n",
       "      <td>0.000000</td>\n",
       "      <td>0.000000</td>\n",
       "      <td>3.000000</td>\n",
       "      <td>4.000000</td>\n",
       "      <td>3.000000</td>\n",
       "      <td>3.000000</td>\n",
       "      <td>3.000000</td>\n",
       "      <td>3.000000</td>\n",
       "      <td>4.000000</td>\n",
       "      <td>3.000000</td>\n",
       "      <td>5.000000</td>\n",
       "    </tr>\n",
       "    <tr>\n",
       "      <th>75%</th>\n",
       "      <td>2.000000</td>\n",
       "      <td>3.000000</td>\n",
       "      <td>45504.192500</td>\n",
       "      <td>1.000000</td>\n",
       "      <td>1.000000</td>\n",
       "      <td>4.000000</td>\n",
       "      <td>4.000000</td>\n",
       "      <td>4.000000</td>\n",
       "      <td>4.000000</td>\n",
       "      <td>4.000000</td>\n",
       "      <td>4.000000</td>\n",
       "      <td>4.000000</td>\n",
       "      <td>4.000000</td>\n",
       "      <td>6.000000</td>\n",
       "    </tr>\n",
       "    <tr>\n",
       "      <th>max</th>\n",
       "      <td>2.000000</td>\n",
       "      <td>4.000000</td>\n",
       "      <td>258900.700000</td>\n",
       "      <td>1.000000</td>\n",
       "      <td>2.000000</td>\n",
       "      <td>7.000000</td>\n",
       "      <td>7.000000</td>\n",
       "      <td>8.000000</td>\n",
       "      <td>7.000000</td>\n",
       "      <td>7.000000</td>\n",
       "      <td>8.000000</td>\n",
       "      <td>7.000000</td>\n",
       "      <td>8.000000</td>\n",
       "      <td>9.000000</td>\n",
       "    </tr>\n",
       "  </tbody>\n",
       "</table>\n",
       "</div>"
      ],
      "text/plain": [
       "               Area    Employment         Income         Churn      Contract  \\\n",
       "count  10000.000000  10000.000000   10000.000000  10000.000000  10000.000000   \n",
       "mean       1.000000      2.506800   39936.762226      0.265000      0.698600   \n",
       "std        0.815761      1.113408   24575.114845      0.441355      0.836079   \n",
       "min        0.000000      0.000000     740.660000      0.000000      0.000000   \n",
       "25%        0.000000      2.000000   23660.790000      0.000000      0.000000   \n",
       "50%        1.000000      3.000000   39936.762226      0.000000      0.000000   \n",
       "75%        2.000000      3.000000   45504.192500      1.000000      1.000000   \n",
       "max        2.000000      4.000000  258900.700000      1.000000      2.000000   \n",
       "\n",
       "       Timely_Response  Timely_Fixes  Timely_Replacement   Reliability  \\\n",
       "count     10000.000000  10000.000000        10000.000000  10000.000000   \n",
       "mean          3.490800      3.505100            3.487000      3.497500   \n",
       "std           1.037797      1.034641            1.027977      1.025816   \n",
       "min           1.000000      1.000000            1.000000      1.000000   \n",
       "25%           3.000000      3.000000            3.000000      3.000000   \n",
       "50%           3.000000      4.000000            3.000000      3.000000   \n",
       "75%           4.000000      4.000000            4.000000      4.000000   \n",
       "max           7.000000      7.000000            8.000000      7.000000   \n",
       "\n",
       "            Options  Respectable_Response  Courteous_Exchange  \\\n",
       "count  10000.000000          10000.000000        10000.000000   \n",
       "mean       3.492900              3.497300            3.509500   \n",
       "std        1.024819              1.033586            1.028502   \n",
       "min        1.000000              1.000000            1.000000   \n",
       "25%        3.000000              3.000000            3.000000   \n",
       "50%        3.000000              3.000000            4.000000   \n",
       "75%        4.000000              4.000000            4.000000   \n",
       "max        7.000000              8.000000            7.000000   \n",
       "\n",
       "       Evidence_of_active_listening  Sum_services  \n",
       "count                  10000.000000  10000.000000  \n",
       "mean                       3.495600      4.626800  \n",
       "std                        1.028633      1.423982  \n",
       "min                        1.000000      0.000000  \n",
       "25%                        3.000000      4.000000  \n",
       "50%                        3.000000      5.000000  \n",
       "75%                        4.000000      6.000000  \n",
       "max                        8.000000      9.000000  "
      ]
     },
     "execution_count": 34,
     "metadata": {},
     "output_type": "execute_result"
    }
   ],
   "source": [
    "#Get summary statistics on final cleaned dataset\n",
    "dflog.describe()"
   ]
  },
  {
   "cell_type": "code",
   "execution_count": 35,
   "id": "1d14221f",
   "metadata": {},
   "outputs": [
    {
     "name": "stdout",
     "output_type": "stream",
     "text": [
      "(array([  75,  798, 1430, 2275, 3425, 3770, 4055, 4489, 4676, 4927, 5257,\n",
      "       5592, 6507, 6878, 7529, 7696, 9734], dtype=int64),)\n"
     ]
    }
   ],
   "source": [
    "#Create Z-Score of 'Sum_services' and put it into 'Z_ScoreServices' column and new variable df_z. Print Z-Score higher than 3.\n",
    "dflog['Z_ScoreServices']=stats.zscore(dflog['Sum_services'])\n",
    "df_z=dflog['Z_ScoreServices']\n",
    "print(np.where(df_z > 3))"
   ]
  },
  {
   "cell_type": "code",
   "execution_count": 36,
   "id": "d88e2599",
   "metadata": {},
   "outputs": [
    {
     "name": "stdout",
     "output_type": "stream",
     "text": [
      "3.0712599571175825\n"
     ]
    }
   ],
   "source": [
    "#Confirm that column 'Z_ScoreServices' position 75's Z-Score is over 3.\n",
    "print (df_z.iloc[75])"
   ]
  },
  {
   "cell_type": "code",
   "execution_count": 37,
   "id": "11630297",
   "metadata": {},
   "outputs": [
    {
     "name": "stdout",
     "output_type": "stream",
     "text": [
      "-0.4401961358093162\n"
     ]
    }
   ],
   "source": [
    "#Declare a new variable df_cln to remove rows with Z-Score higher 3 and lower than -3. Print to ensure removal.\n",
    "df_cln = dflog\n",
    "df_cln = df_cln[(df_z < 3) & (df_z > -3)]\n",
    "\n",
    "print (df_cln['Z_ScoreServices'].iloc[75])\n"
   ]
  },
  {
   "cell_type": "code",
   "execution_count": 38,
   "id": "f56ad184",
   "metadata": {},
   "outputs": [
    {
     "name": "stdout",
     "output_type": "stream",
     "text": [
      "219     2.368969\n",
      "3228    2.368969\n",
      "8016    2.368969\n",
      "8003    2.368969\n",
      "7979    2.368969\n",
      "          ...   \n",
      "9868   -2.547070\n",
      "6434   -2.547070\n",
      "4602   -2.547070\n",
      "4607   -2.547070\n",
      "7522   -2.547070\n",
      "Name: Z_ScoreServices, Length: 9978, dtype: float64\n"
     ]
    }
   ],
   "source": [
    "#Double Check no Z-Score higher than 3 or less than -3\n",
    "print (df_cln['Z_ScoreServices'].sort_values(ascending=False))"
   ]
  },
  {
   "cell_type": "code",
   "execution_count": 39,
   "id": "6371fb68",
   "metadata": {
    "scrolled": true
   },
   "outputs": [
    {
     "data": {
      "text/html": [
       "<div>\n",
       "<style scoped>\n",
       "    .dataframe tbody tr th:only-of-type {\n",
       "        vertical-align: middle;\n",
       "    }\n",
       "\n",
       "    .dataframe tbody tr th {\n",
       "        vertical-align: top;\n",
       "    }\n",
       "\n",
       "    .dataframe thead th {\n",
       "        text-align: right;\n",
       "    }\n",
       "</style>\n",
       "<table border=\"1\" class=\"dataframe\">\n",
       "  <thead>\n",
       "    <tr style=\"text-align: right;\">\n",
       "      <th></th>\n",
       "      <th>Area</th>\n",
       "      <th>Employment</th>\n",
       "      <th>Income</th>\n",
       "      <th>Churn</th>\n",
       "      <th>Contract</th>\n",
       "      <th>Timely_Response</th>\n",
       "      <th>Timely_Fixes</th>\n",
       "      <th>Timely_Replacement</th>\n",
       "      <th>Reliability</th>\n",
       "      <th>Options</th>\n",
       "      <th>Respectable_Response</th>\n",
       "      <th>Courteous_Exchange</th>\n",
       "      <th>Evidence_of_active_listening</th>\n",
       "      <th>Sum_services</th>\n",
       "      <th>Z_ScoreServices</th>\n",
       "    </tr>\n",
       "  </thead>\n",
       "  <tbody>\n",
       "    <tr>\n",
       "      <th>0</th>\n",
       "      <td>2.0</td>\n",
       "      <td>2.0</td>\n",
       "      <td>28561.990000</td>\n",
       "      <td>0.0</td>\n",
       "      <td>1.0</td>\n",
       "      <td>5</td>\n",
       "      <td>5</td>\n",
       "      <td>5</td>\n",
       "      <td>3</td>\n",
       "      <td>4</td>\n",
       "      <td>4</td>\n",
       "      <td>3</td>\n",
       "      <td>4</td>\n",
       "      <td>5.0</td>\n",
       "      <td>0.262095</td>\n",
       "    </tr>\n",
       "    <tr>\n",
       "      <th>1</th>\n",
       "      <td>2.0</td>\n",
       "      <td>4.0</td>\n",
       "      <td>21704.770000</td>\n",
       "      <td>1.0</td>\n",
       "      <td>0.0</td>\n",
       "      <td>3</td>\n",
       "      <td>4</td>\n",
       "      <td>3</td>\n",
       "      <td>3</td>\n",
       "      <td>4</td>\n",
       "      <td>3</td>\n",
       "      <td>4</td>\n",
       "      <td>4</td>\n",
       "      <td>6.0</td>\n",
       "      <td>0.964386</td>\n",
       "    </tr>\n",
       "    <tr>\n",
       "      <th>2</th>\n",
       "      <td>2.0</td>\n",
       "      <td>1.0</td>\n",
       "      <td>39936.762226</td>\n",
       "      <td>0.0</td>\n",
       "      <td>2.0</td>\n",
       "      <td>4</td>\n",
       "      <td>4</td>\n",
       "      <td>2</td>\n",
       "      <td>4</td>\n",
       "      <td>4</td>\n",
       "      <td>3</td>\n",
       "      <td>3</td>\n",
       "      <td>3</td>\n",
       "      <td>4.0</td>\n",
       "      <td>-0.440196</td>\n",
       "    </tr>\n",
       "    <tr>\n",
       "      <th>3</th>\n",
       "      <td>1.0</td>\n",
       "      <td>4.0</td>\n",
       "      <td>18925.230000</td>\n",
       "      <td>0.0</td>\n",
       "      <td>2.0</td>\n",
       "      <td>4</td>\n",
       "      <td>4</td>\n",
       "      <td>4</td>\n",
       "      <td>2</td>\n",
       "      <td>5</td>\n",
       "      <td>4</td>\n",
       "      <td>3</td>\n",
       "      <td>3</td>\n",
       "      <td>4.0</td>\n",
       "      <td>-0.440196</td>\n",
       "    </tr>\n",
       "    <tr>\n",
       "      <th>4</th>\n",
       "      <td>1.0</td>\n",
       "      <td>1.0</td>\n",
       "      <td>40074.190000</td>\n",
       "      <td>1.0</td>\n",
       "      <td>0.0</td>\n",
       "      <td>4</td>\n",
       "      <td>4</td>\n",
       "      <td>4</td>\n",
       "      <td>3</td>\n",
       "      <td>4</td>\n",
       "      <td>4</td>\n",
       "      <td>4</td>\n",
       "      <td>5</td>\n",
       "      <td>3.0</td>\n",
       "      <td>-1.142487</td>\n",
       "    </tr>\n",
       "    <tr>\n",
       "      <th>...</th>\n",
       "      <td>...</td>\n",
       "      <td>...</td>\n",
       "      <td>...</td>\n",
       "      <td>...</td>\n",
       "      <td>...</td>\n",
       "      <td>...</td>\n",
       "      <td>...</td>\n",
       "      <td>...</td>\n",
       "      <td>...</td>\n",
       "      <td>...</td>\n",
       "      <td>...</td>\n",
       "      <td>...</td>\n",
       "      <td>...</td>\n",
       "      <td>...</td>\n",
       "      <td>...</td>\n",
       "    </tr>\n",
       "    <tr>\n",
       "      <th>9995</th>\n",
       "      <td>0.0</td>\n",
       "      <td>4.0</td>\n",
       "      <td>55723.740000</td>\n",
       "      <td>0.0</td>\n",
       "      <td>0.0</td>\n",
       "      <td>3</td>\n",
       "      <td>2</td>\n",
       "      <td>3</td>\n",
       "      <td>3</td>\n",
       "      <td>4</td>\n",
       "      <td>3</td>\n",
       "      <td>2</td>\n",
       "      <td>3</td>\n",
       "      <td>4.0</td>\n",
       "      <td>-0.440196</td>\n",
       "    </tr>\n",
       "    <tr>\n",
       "      <th>9996</th>\n",
       "      <td>0.0</td>\n",
       "      <td>2.0</td>\n",
       "      <td>39936.762226</td>\n",
       "      <td>0.0</td>\n",
       "      <td>2.0</td>\n",
       "      <td>4</td>\n",
       "      <td>5</td>\n",
       "      <td>5</td>\n",
       "      <td>4</td>\n",
       "      <td>4</td>\n",
       "      <td>5</td>\n",
       "      <td>2</td>\n",
       "      <td>5</td>\n",
       "      <td>6.0</td>\n",
       "      <td>0.964386</td>\n",
       "    </tr>\n",
       "    <tr>\n",
       "      <th>9997</th>\n",
       "      <td>0.0</td>\n",
       "      <td>3.0</td>\n",
       "      <td>39936.762226</td>\n",
       "      <td>0.0</td>\n",
       "      <td>0.0</td>\n",
       "      <td>4</td>\n",
       "      <td>4</td>\n",
       "      <td>4</td>\n",
       "      <td>4</td>\n",
       "      <td>4</td>\n",
       "      <td>4</td>\n",
       "      <td>4</td>\n",
       "      <td>5</td>\n",
       "      <td>5.0</td>\n",
       "      <td>0.262095</td>\n",
       "    </tr>\n",
       "    <tr>\n",
       "      <th>9998</th>\n",
       "      <td>2.0</td>\n",
       "      <td>3.0</td>\n",
       "      <td>16667.580000</td>\n",
       "      <td>0.0</td>\n",
       "      <td>2.0</td>\n",
       "      <td>4</td>\n",
       "      <td>4</td>\n",
       "      <td>6</td>\n",
       "      <td>4</td>\n",
       "      <td>3</td>\n",
       "      <td>3</td>\n",
       "      <td>5</td>\n",
       "      <td>4</td>\n",
       "      <td>5.0</td>\n",
       "      <td>0.262095</td>\n",
       "    </tr>\n",
       "    <tr>\n",
       "      <th>9999</th>\n",
       "      <td>2.0</td>\n",
       "      <td>3.0</td>\n",
       "      <td>39936.762226</td>\n",
       "      <td>0.0</td>\n",
       "      <td>0.0</td>\n",
       "      <td>2</td>\n",
       "      <td>2</td>\n",
       "      <td>3</td>\n",
       "      <td>3</td>\n",
       "      <td>3</td>\n",
       "      <td>3</td>\n",
       "      <td>4</td>\n",
       "      <td>1</td>\n",
       "      <td>7.0</td>\n",
       "      <td>1.666678</td>\n",
       "    </tr>\n",
       "  </tbody>\n",
       "</table>\n",
       "<p>9978 rows × 15 columns</p>\n",
       "</div>"
      ],
      "text/plain": [
       "      Area  Employment        Income  Churn  Contract  Timely_Response  \\\n",
       "0      2.0         2.0  28561.990000    0.0       1.0                5   \n",
       "1      2.0         4.0  21704.770000    1.0       0.0                3   \n",
       "2      2.0         1.0  39936.762226    0.0       2.0                4   \n",
       "3      1.0         4.0  18925.230000    0.0       2.0                4   \n",
       "4      1.0         1.0  40074.190000    1.0       0.0                4   \n",
       "...    ...         ...           ...    ...       ...              ...   \n",
       "9995   0.0         4.0  55723.740000    0.0       0.0                3   \n",
       "9996   0.0         2.0  39936.762226    0.0       2.0                4   \n",
       "9997   0.0         3.0  39936.762226    0.0       0.0                4   \n",
       "9998   2.0         3.0  16667.580000    0.0       2.0                4   \n",
       "9999   2.0         3.0  39936.762226    0.0       0.0                2   \n",
       "\n",
       "      Timely_Fixes  Timely_Replacement  Reliability  Options  \\\n",
       "0                5                   5            3        4   \n",
       "1                4                   3            3        4   \n",
       "2                4                   2            4        4   \n",
       "3                4                   4            2        5   \n",
       "4                4                   4            3        4   \n",
       "...            ...                 ...          ...      ...   \n",
       "9995             2                   3            3        4   \n",
       "9996             5                   5            4        4   \n",
       "9997             4                   4            4        4   \n",
       "9998             4                   6            4        3   \n",
       "9999             2                   3            3        3   \n",
       "\n",
       "      Respectable_Response  Courteous_Exchange  Evidence_of_active_listening  \\\n",
       "0                        4                   3                             4   \n",
       "1                        3                   4                             4   \n",
       "2                        3                   3                             3   \n",
       "3                        4                   3                             3   \n",
       "4                        4                   4                             5   \n",
       "...                    ...                 ...                           ...   \n",
       "9995                     3                   2                             3   \n",
       "9996                     5                   2                             5   \n",
       "9997                     4                   4                             5   \n",
       "9998                     3                   5                             4   \n",
       "9999                     3                   4                             1   \n",
       "\n",
       "      Sum_services  Z_ScoreServices  \n",
       "0              5.0         0.262095  \n",
       "1              6.0         0.964386  \n",
       "2              4.0        -0.440196  \n",
       "3              4.0        -0.440196  \n",
       "4              3.0        -1.142487  \n",
       "...            ...              ...  \n",
       "9995           4.0        -0.440196  \n",
       "9996           6.0         0.964386  \n",
       "9997           5.0         0.262095  \n",
       "9998           5.0         0.262095  \n",
       "9999           7.0         1.666678  \n",
       "\n",
       "[9978 rows x 15 columns]"
      ]
     },
     "execution_count": 39,
     "metadata": {},
     "output_type": "execute_result"
    }
   ],
   "source": [
    "#One last look at the dataframe\n",
    "df_cln"
   ]
  },
  {
   "cell_type": "code",
   "execution_count": 40,
   "id": "e73989e9",
   "metadata": {},
   "outputs": [],
   "source": [
    "#Now that we have removed the observations with outliers, we no longer need the Z_score column \n",
    "#and will remove it so we can proceed to our analysis\n",
    "df_cln=df_cln.drop(['Z_ScoreServices'],axis = 1)"
   ]
  },
  {
   "cell_type": "code",
   "execution_count": 41,
   "id": "1d79c828",
   "metadata": {
    "scrolled": false
   },
   "outputs": [
    {
     "data": {
      "text/html": [
       "<div>\n",
       "<style scoped>\n",
       "    .dataframe tbody tr th:only-of-type {\n",
       "        vertical-align: middle;\n",
       "    }\n",
       "\n",
       "    .dataframe tbody tr th {\n",
       "        vertical-align: top;\n",
       "    }\n",
       "\n",
       "    .dataframe thead th {\n",
       "        text-align: right;\n",
       "    }\n",
       "</style>\n",
       "<table border=\"1\" class=\"dataframe\">\n",
       "  <thead>\n",
       "    <tr style=\"text-align: right;\">\n",
       "      <th></th>\n",
       "      <th>Area</th>\n",
       "      <th>Employment</th>\n",
       "      <th>Income</th>\n",
       "      <th>Churn</th>\n",
       "      <th>Contract</th>\n",
       "      <th>Timely_Response</th>\n",
       "      <th>Timely_Fixes</th>\n",
       "      <th>Timely_Replacement</th>\n",
       "      <th>Reliability</th>\n",
       "      <th>Options</th>\n",
       "      <th>Respectable_Response</th>\n",
       "      <th>Courteous_Exchange</th>\n",
       "      <th>Evidence_of_active_listening</th>\n",
       "      <th>Sum_services</th>\n",
       "    </tr>\n",
       "  </thead>\n",
       "  <tbody>\n",
       "    <tr>\n",
       "      <th>count</th>\n",
       "      <td>9978.000000</td>\n",
       "      <td>9978.000000</td>\n",
       "      <td>9978.000000</td>\n",
       "      <td>9978.000000</td>\n",
       "      <td>9978.000000</td>\n",
       "      <td>9978.00000</td>\n",
       "      <td>9978.000000</td>\n",
       "      <td>9978.000000</td>\n",
       "      <td>9978.000000</td>\n",
       "      <td>9978.000000</td>\n",
       "      <td>9978.000000</td>\n",
       "      <td>9978.000000</td>\n",
       "      <td>9978.000000</td>\n",
       "      <td>9978.000000</td>\n",
       "    </tr>\n",
       "    <tr>\n",
       "      <th>mean</th>\n",
       "      <td>1.000702</td>\n",
       "      <td>2.507216</td>\n",
       "      <td>39954.802691</td>\n",
       "      <td>0.264281</td>\n",
       "      <td>0.697935</td>\n",
       "      <td>3.49078</td>\n",
       "      <td>3.504710</td>\n",
       "      <td>3.486170</td>\n",
       "      <td>3.497895</td>\n",
       "      <td>3.492884</td>\n",
       "      <td>3.497194</td>\n",
       "      <td>3.510122</td>\n",
       "      <td>3.495791</td>\n",
       "      <td>4.621668</td>\n",
       "    </tr>\n",
       "    <tr>\n",
       "      <th>std</th>\n",
       "      <td>0.815616</td>\n",
       "      <td>1.113215</td>\n",
       "      <td>24581.323593</td>\n",
       "      <td>0.440972</td>\n",
       "      <td>0.836041</td>\n",
       "      <td>1.03771</td>\n",
       "      <td>1.034742</td>\n",
       "      <td>1.027857</td>\n",
       "      <td>1.025995</td>\n",
       "      <td>1.024996</td>\n",
       "      <td>1.033683</td>\n",
       "      <td>1.028582</td>\n",
       "      <td>1.029013</td>\n",
       "      <td>1.410267</td>\n",
       "    </tr>\n",
       "    <tr>\n",
       "      <th>min</th>\n",
       "      <td>0.000000</td>\n",
       "      <td>0.000000</td>\n",
       "      <td>740.660000</td>\n",
       "      <td>0.000000</td>\n",
       "      <td>0.000000</td>\n",
       "      <td>1.00000</td>\n",
       "      <td>1.000000</td>\n",
       "      <td>1.000000</td>\n",
       "      <td>1.000000</td>\n",
       "      <td>1.000000</td>\n",
       "      <td>1.000000</td>\n",
       "      <td>1.000000</td>\n",
       "      <td>1.000000</td>\n",
       "      <td>1.000000</td>\n",
       "    </tr>\n",
       "    <tr>\n",
       "      <th>25%</th>\n",
       "      <td>0.000000</td>\n",
       "      <td>2.000000</td>\n",
       "      <td>23670.642500</td>\n",
       "      <td>0.000000</td>\n",
       "      <td>0.000000</td>\n",
       "      <td>3.00000</td>\n",
       "      <td>3.000000</td>\n",
       "      <td>3.000000</td>\n",
       "      <td>3.000000</td>\n",
       "      <td>3.000000</td>\n",
       "      <td>3.000000</td>\n",
       "      <td>3.000000</td>\n",
       "      <td>3.000000</td>\n",
       "      <td>4.000000</td>\n",
       "    </tr>\n",
       "    <tr>\n",
       "      <th>50%</th>\n",
       "      <td>1.000000</td>\n",
       "      <td>3.000000</td>\n",
       "      <td>39936.762226</td>\n",
       "      <td>0.000000</td>\n",
       "      <td>0.000000</td>\n",
       "      <td>3.00000</td>\n",
       "      <td>4.000000</td>\n",
       "      <td>3.000000</td>\n",
       "      <td>3.500000</td>\n",
       "      <td>3.000000</td>\n",
       "      <td>3.000000</td>\n",
       "      <td>4.000000</td>\n",
       "      <td>3.000000</td>\n",
       "      <td>5.000000</td>\n",
       "    </tr>\n",
       "    <tr>\n",
       "      <th>75%</th>\n",
       "      <td>2.000000</td>\n",
       "      <td>3.000000</td>\n",
       "      <td>45512.015000</td>\n",
       "      <td>1.000000</td>\n",
       "      <td>1.000000</td>\n",
       "      <td>4.00000</td>\n",
       "      <td>4.000000</td>\n",
       "      <td>4.000000</td>\n",
       "      <td>4.000000</td>\n",
       "      <td>4.000000</td>\n",
       "      <td>4.000000</td>\n",
       "      <td>4.000000</td>\n",
       "      <td>4.000000</td>\n",
       "      <td>6.000000</td>\n",
       "    </tr>\n",
       "    <tr>\n",
       "      <th>max</th>\n",
       "      <td>2.000000</td>\n",
       "      <td>4.000000</td>\n",
       "      <td>258900.700000</td>\n",
       "      <td>1.000000</td>\n",
       "      <td>2.000000</td>\n",
       "      <td>7.00000</td>\n",
       "      <td>7.000000</td>\n",
       "      <td>8.000000</td>\n",
       "      <td>7.000000</td>\n",
       "      <td>7.000000</td>\n",
       "      <td>8.000000</td>\n",
       "      <td>7.000000</td>\n",
       "      <td>8.000000</td>\n",
       "      <td>8.000000</td>\n",
       "    </tr>\n",
       "  </tbody>\n",
       "</table>\n",
       "</div>"
      ],
      "text/plain": [
       "              Area   Employment         Income        Churn     Contract  \\\n",
       "count  9978.000000  9978.000000    9978.000000  9978.000000  9978.000000   \n",
       "mean      1.000702     2.507216   39954.802691     0.264281     0.697935   \n",
       "std       0.815616     1.113215   24581.323593     0.440972     0.836041   \n",
       "min       0.000000     0.000000     740.660000     0.000000     0.000000   \n",
       "25%       0.000000     2.000000   23670.642500     0.000000     0.000000   \n",
       "50%       1.000000     3.000000   39936.762226     0.000000     0.000000   \n",
       "75%       2.000000     3.000000   45512.015000     1.000000     1.000000   \n",
       "max       2.000000     4.000000  258900.700000     1.000000     2.000000   \n",
       "\n",
       "       Timely_Response  Timely_Fixes  Timely_Replacement  Reliability  \\\n",
       "count       9978.00000   9978.000000         9978.000000  9978.000000   \n",
       "mean           3.49078      3.504710            3.486170     3.497895   \n",
       "std            1.03771      1.034742            1.027857     1.025995   \n",
       "min            1.00000      1.000000            1.000000     1.000000   \n",
       "25%            3.00000      3.000000            3.000000     3.000000   \n",
       "50%            3.00000      4.000000            3.000000     3.500000   \n",
       "75%            4.00000      4.000000            4.000000     4.000000   \n",
       "max            7.00000      7.000000            8.000000     7.000000   \n",
       "\n",
       "           Options  Respectable_Response  Courteous_Exchange  \\\n",
       "count  9978.000000           9978.000000         9978.000000   \n",
       "mean      3.492884              3.497194            3.510122   \n",
       "std       1.024996              1.033683            1.028582   \n",
       "min       1.000000              1.000000            1.000000   \n",
       "25%       3.000000              3.000000            3.000000   \n",
       "50%       3.000000              3.000000            4.000000   \n",
       "75%       4.000000              4.000000            4.000000   \n",
       "max       7.000000              8.000000            7.000000   \n",
       "\n",
       "       Evidence_of_active_listening  Sum_services  \n",
       "count                   9978.000000   9978.000000  \n",
       "mean                       3.495791      4.621668  \n",
       "std                        1.029013      1.410267  \n",
       "min                        1.000000      1.000000  \n",
       "25%                        3.000000      4.000000  \n",
       "50%                        3.000000      5.000000  \n",
       "75%                        4.000000      6.000000  \n",
       "max                        8.000000      8.000000  "
      ]
     },
     "execution_count": 41,
     "metadata": {},
     "output_type": "execute_result"
    }
   ],
   "source": [
    "#Review the new dataframe's summary statistics\n",
    "df_cln.describe()"
   ]
  },
  {
   "cell_type": "code",
   "execution_count": 42,
   "id": "ae0d37bc",
   "metadata": {
    "scrolled": false
   },
   "outputs": [
    {
     "data": {
      "text/plain": [
       "<AxesSubplot:xlabel='Churn', ylabel='Sum_services'>"
      ]
     },
     "execution_count": 42,
     "metadata": {},
     "output_type": "execute_result"
    },
    {
     "data": {
      "image/png": "[encoded data removed]",
      "text/plain": [
       "<Figure size 432x288 with 1 Axes>"
      ]
     },
     "metadata": {
      "needs_background": "light"
     },
     "output_type": "display_data"
    }
   ],
   "source": [
    "#Perform BoxPlot to find Outliers of Sum_services.\n",
    "sns.boxplot(x='Churn', y='Sum_services', data=df_cln)"
   ]
  },
  {
   "cell_type": "code",
   "execution_count": 43,
   "id": "73e60ad0",
   "metadata": {
    "scrolled": true
   },
   "outputs": [
    {
     "data": {
      "text/plain": [
       "array([[<AxesSubplot:title={'center':'Sum_services'}>,\n",
       "        <AxesSubplot:title={'center':'Area'}>,\n",
       "        <AxesSubplot:title={'center':'Employment'}>],\n",
       "       [<AxesSubplot:title={'center':'Income'}>,\n",
       "        <AxesSubplot:title={'center':'Contract'}>,\n",
       "        <AxesSubplot:title={'center':'Timely_Fixes'}>],\n",
       "       [<AxesSubplot:title={'center':'Timely_Replacement'}>,\n",
       "        <AxesSubplot:title={'center':'Reliability'}>,\n",
       "        <AxesSubplot:title={'center':'Options'}>],\n",
       "       [<AxesSubplot:title={'center':'Respectable_Response'}>,\n",
       "        <AxesSubplot:title={'center':'Courteous_Exchange'}>,\n",
       "        <AxesSubplot:title={'center':'Evidence_of_active_listening'}>]],\n",
       "      dtype=object)"
      ]
     },
     "execution_count": 43,
     "metadata": {},
     "output_type": "execute_result"
    },
    {
     "data": {
      "image/png": "[encoded data removed]",
      "text/plain": [
       "<Figure size 720x720 with 12 Axes>"
      ]
     },
     "metadata": {
      "needs_background": "light"
     },
     "output_type": "display_data"
    }
   ],
   "source": [
    "#Perform Univariate Analysis histogram on all predictor variables.\n",
    "df_cln[['Sum_services','Area','Employment','Income','Contract',\n",
    "        'Timely_Fixes','Timely_Replacement','Reliability','Options',\n",
    "        'Respectable_Response','Courteous_Exchange','Evidence_of_active_listening']].hist(figsize=(10,10),bins=10)"
   ]
  },
  {
   "cell_type": "code",
   "execution_count": 44,
   "id": "ca8d489f",
   "metadata": {},
   "outputs": [
    {
     "data": {
      "text/plain": [
       "<seaborn.axisgrid.FacetGrid at 0x193bd22cbe0>"
      ]
     },
     "execution_count": 44,
     "metadata": {},
     "output_type": "execute_result"
    },
    {
     "data": {
      "image/png": "[encoded data removed]",
      "text/plain": [
       "<Figure size 360x360 with 1 Axes>"
      ]
     },
     "metadata": {
      "needs_background": "light"
     },
     "output_type": "display_data"
    },
    {
     "data": {
      "image/png": "[encoded data removed]",
      "text/plain": [
       "<Figure size 360x360 with 1 Axes>"
      ]
     },
     "metadata": {
      "needs_background": "light"
     },
     "output_type": "display_data"
    },
    {
     "data": {
      "image/png": "[encoded data removed]",
      "text/plain": [
       "<Figure size 360x360 with 1 Axes>"
      ]
     },
     "metadata": {
      "needs_background": "light"
     },
     "output_type": "display_data"
    },
    {
     "data": {
      "image/png": "[encoded data removed]",
      "text/plain": [
       "<Figure size 360x360 with 1 Axes>"
      ]
     },
     "metadata": {
      "needs_background": "light"
     },
     "output_type": "display_data"
    },
    {
     "data": {
      "image/png": "[encoded data removed]",
      "text/plain": [
       "<Figure size 360x360 with 1 Axes>"
      ]
     },
     "metadata": {
      "needs_background": "light"
     },
     "output_type": "display_data"
    },
    {
     "data": {
      "image/png": "[encoded data removed]",
      "text/plain": [
       "<Figure size 360x360 with 1 Axes>"
      ]
     },
     "metadata": {
      "needs_background": "light"
     },
     "output_type": "display_data"
    },
    {
     "data": {
      "image/png": "[encoded data removed]",
      "text/plain": [
       "<Figure size 360x360 with 1 Axes>"
      ]
     },
     "metadata": {
      "needs_background": "light"
     },
     "output_type": "display_data"
    },
    {
     "data": {
      "image/png": "[encoded data removed]",
      "text/plain": [
       "<Figure size 360x360 with 1 Axes>"
      ]
     },
     "metadata": {
      "needs_background": "light"
     },
     "output_type": "display_data"
    },
    {
     "data": {
      "image/png": "[encoded data removed]",
      "text/plain": [
       "<Figure size 360x360 with 1 Axes>"
      ]
     },
     "metadata": {
      "needs_background": "light"
     },
     "output_type": "display_data"
    },
    {
     "data": {
      "image/png": "[encoded data removed]",
      "text/plain": [
       "<Figure size 360x360 with 1 Axes>"
      ]
     },
     "metadata": {
      "needs_background": "light"
     },
     "output_type": "display_data"
    },
    {
     "data": {
      "image/png": "[encoded data removed]",
      "text/plain": [
       "<Figure size 360x360 with 1 Axes>"
      ]
     },
     "metadata": {
      "needs_background": "light"
     },
     "output_type": "display_data"
    },
    {
     "data": {
      "image/png": "[encoded data removed]",
      "text/plain": [
       "<Figure size 360x360 with 1 Axes>"
      ]
     },
     "metadata": {
      "needs_background": "light"
     },
     "output_type": "display_data"
    }
   ],
   "source": [
    "#Create a displot for all predictor variable.\n",
    "sns.displot(df_cln['Sum_services'])\n",
    "sns.displot(df_cln['Contract'])\n",
    "sns.displot(df_cln['Area'])\n",
    "sns.displot(df_cln['Employment'])\n",
    "sns.displot(df_cln['Income'])\n",
    "sns.displot(df_cln['Timely_Fixes'])\n",
    "sns.displot(df_cln['Timely_Replacement'])\n",
    "sns.displot(df_cln['Reliability'])\n",
    "sns.displot(df_cln['Options'])\n",
    "sns.displot(df_cln['Respectable_Response'])\n",
    "sns.displot(df_cln['Courteous_Exchange'])\n",
    "sns.displot(df_cln['Evidence_of_active_listening'])"
   ]
  },
  {
   "cell_type": "code",
   "execution_count": 45,
   "id": "3fc159d0",
   "metadata": {
    "scrolled": true
   },
   "outputs": [
    {
     "data": {
      "text/plain": [
       "<AxesSubplot:xlabel='Sum_services'>"
      ]
     },
     "execution_count": 45,
     "metadata": {},
     "output_type": "execute_result"
    },
    {
     "data": {
      "image/png": "[encoded data removed]",
      "text/plain": [
       "<Figure size 432x288 with 1 Axes>"
      ]
     },
     "metadata": {
      "needs_background": "light"
     },
     "output_type": "display_data"
    }
   ],
   "source": [
    "#Create Boxplot for 'Sum_services'.\n",
    "sns.boxplot(x='Sum_services', data=df_cln)"
   ]
  },
  {
   "cell_type": "code",
   "execution_count": 46,
   "id": "377544e2",
   "metadata": {
    "scrolled": true
   },
   "outputs": [
    {
     "data": {
      "text/plain": [
       "<AxesSubplot:xlabel='Income'>"
      ]
     },
     "execution_count": 46,
     "metadata": {},
     "output_type": "execute_result"
    },
    {
     "data": {
      "image/png": "[encoded data removed]",
      "text/plain": [
       "<Figure size 432x288 with 1 Axes>"
      ]
     },
     "metadata": {
      "needs_background": "light"
     },
     "output_type": "display_data"
    }
   ],
   "source": [
    "#Create Boxplot for 'Income'.\n",
    "sns.boxplot(x='Income', data=df_cln)"
   ]
  },
  {
   "cell_type": "code",
   "execution_count": 47,
   "id": "db27e06c",
   "metadata": {},
   "outputs": [
    {
     "data": {
      "text/plain": [
       "<AxesSubplot:xlabel='Churn', ylabel='Sum_services'>"
      ]
     },
     "execution_count": 47,
     "metadata": {},
     "output_type": "execute_result"
    },
    {
     "data": {
      "image/png": "[encoded data removed]",
      "text/plain": [
       "<Figure size 432x288 with 1 Axes>"
      ]
     },
     "metadata": {
      "needs_background": "light"
     },
     "output_type": "display_data"
    }
   ],
   "source": [
    "#Create Bivariate Analysis of Churn and predictor variables.\n",
    "sns.scatterplot(x='Churn',y='Sum_services', data=df_cln)"
   ]
  },
  {
   "cell_type": "code",
   "execution_count": 48,
   "id": "45a84af5",
   "metadata": {},
   "outputs": [
    {
     "data": {
      "text/plain": [
       "<AxesSubplot:xlabel='Churn', ylabel='Contract'>"
      ]
     },
     "execution_count": 48,
     "metadata": {},
     "output_type": "execute_result"
    },
    {
     "data": {
      "image/png": "[encoded data removed]",
      "text/plain": [
       "<Figure size 432x288 with 1 Axes>"
      ]
     },
     "metadata": {
      "needs_background": "light"
     },
     "output_type": "display_data"
    }
   ],
   "source": [
    "#Create Bivariate Analysis of Churn and predictor variables.\n",
    "sns.scatterplot(x='Churn',y='Contract', data=df_cln)"
   ]
  },
  {
   "cell_type": "code",
   "execution_count": 49,
   "id": "5a6c14fe",
   "metadata": {},
   "outputs": [
    {
     "data": {
      "text/plain": [
       "<AxesSubplot:xlabel='Churn', ylabel='Area'>"
      ]
     },
     "execution_count": 49,
     "metadata": {},
     "output_type": "execute_result"
    },
    {
     "data": {
      "image/png": "[encoded data removed]",
      "text/plain": [
       "<Figure size 432x288 with 1 Axes>"
      ]
     },
     "metadata": {
      "needs_background": "light"
     },
     "output_type": "display_data"
    }
   ],
   "source": [
    "#Create Bivariate Analysis of Churn and predictor variables.\n",
    "sns.scatterplot(x='Churn',y='Area', data=df_cln)"
   ]
  },
  {
   "cell_type": "code",
   "execution_count": 50,
   "id": "a62f913d",
   "metadata": {},
   "outputs": [
    {
     "data": {
      "text/plain": [
       "<AxesSubplot:xlabel='Churn', ylabel='Employment'>"
      ]
     },
     "execution_count": 50,
     "metadata": {},
     "output_type": "execute_result"
    },
    {
     "data": {
      "image/png": "[encoded data removed]",
      "text/plain": [
       "<Figure size 432x288 with 1 Axes>"
      ]
     },
     "metadata": {
      "needs_background": "light"
     },
     "output_type": "display_data"
    }
   ],
   "source": [
    "#Create Bivariate Analysis of Churn and predictor variables.\n",
    "sns.scatterplot(x='Churn',y='Employment', data=df_cln)"
   ]
  },
  {
   "cell_type": "code",
   "execution_count": 51,
   "id": "51bfead8",
   "metadata": {},
   "outputs": [
    {
     "data": {
      "text/plain": [
       "<AxesSubplot:xlabel='Churn', ylabel='Income'>"
      ]
     },
     "execution_count": 51,
     "metadata": {},
     "output_type": "execute_result"
    },
    {
     "data": {
      "image/png": "[encoded data removed]",
      "text/plain": [
       "<Figure size 432x288 with 1 Axes>"
      ]
     },
     "metadata": {
      "needs_background": "light"
     },
     "output_type": "display_data"
    }
   ],
   "source": [
    "#Create Bivariate Analysis of Churn and predictor variables.\n",
    "sns.scatterplot(x='Churn',y='Income', data=df_cln)"
   ]
  },
  {
   "cell_type": "code",
   "execution_count": 52,
   "id": "432cb220",
   "metadata": {},
   "outputs": [
    {
     "data": {
      "text/plain": [
       "<AxesSubplot:xlabel='Churn', ylabel='Timely_Fixes'>"
      ]
     },
     "execution_count": 52,
     "metadata": {},
     "output_type": "execute_result"
    },
    {
     "data": {
      "image/png": "[encoded data removed]",
      "text/plain": [
       "<Figure size 432x288 with 1 Axes>"
      ]
     },
     "metadata": {
      "needs_background": "light"
     },
     "output_type": "display_data"
    }
   ],
   "source": [
    "#Create Bivariate Analysis of Churn and predictor variables.\n",
    "sns.scatterplot(x='Churn',y='Timely_Fixes', data=df_cln)"
   ]
  },
  {
   "cell_type": "code",
   "execution_count": 53,
   "id": "71363dbd",
   "metadata": {},
   "outputs": [
    {
     "data": {
      "text/plain": [
       "<AxesSubplot:xlabel='Churn', ylabel='Timely_Replacement'>"
      ]
     },
     "execution_count": 53,
     "metadata": {},
     "output_type": "execute_result"
    },
    {
     "data": {
      "image/png": "[encoded data removed]",
      "text/plain": [
       "<Figure size 432x288 with 1 Axes>"
      ]
     },
     "metadata": {
      "needs_background": "light"
     },
     "output_type": "display_data"
    }
   ],
   "source": [
    "#Create Bivariate Analysis of Churn and predictor variables.\n",
    "sns.scatterplot(x='Churn',y='Timely_Replacement', data=df_cln)"
   ]
  },
  {
   "cell_type": "code",
   "execution_count": 54,
   "id": "1e397626",
   "metadata": {},
   "outputs": [
    {
     "data": {
      "text/plain": [
       "<AxesSubplot:xlabel='Churn', ylabel='Reliability'>"
      ]
     },
     "execution_count": 54,
     "metadata": {},
     "output_type": "execute_result"
    },
    {
     "data": {
      "image/png": "[encoded data removed]",
      "text/plain": [
       "<Figure size 432x288 with 1 Axes>"
      ]
     },
     "metadata": {
      "needs_background": "light"
     },
     "output_type": "display_data"
    }
   ],
   "source": [
    "#Create Bivariate Analysis of Churn and predictor variables.\n",
    "sns.scatterplot(x='Churn',y='Reliability', data=df_cln)"
   ]
  },
  {
   "cell_type": "code",
   "execution_count": 55,
   "id": "ad36a803",
   "metadata": {},
   "outputs": [
    {
     "data": {
      "text/plain": [
       "<AxesSubplot:xlabel='Churn', ylabel='Options'>"
      ]
     },
     "execution_count": 55,
     "metadata": {},
     "output_type": "execute_result"
    },
    {
     "data": {
      "image/png": "[encoded data removed]",
      "text/plain": [
       "<Figure size 432x288 with 1 Axes>"
      ]
     },
     "metadata": {
      "needs_background": "light"
     },
     "output_type": "display_data"
    }
   ],
   "source": [
    "#Create Bivariate Analysis of Churn and predictor variables.\n",
    "sns.scatterplot(x='Churn',y='Options', data=df_cln)"
   ]
  },
  {
   "cell_type": "code",
   "execution_count": 56,
   "id": "ccf57e0c",
   "metadata": {},
   "outputs": [
    {
     "data": {
      "text/plain": [
       "<AxesSubplot:xlabel='Churn', ylabel='Respectable_Response'>"
      ]
     },
     "execution_count": 56,
     "metadata": {},
     "output_type": "execute_result"
    },
    {
     "data": {
      "image/png": "[encoded data removed]",
      "text/plain": [
       "<Figure size 432x288 with 1 Axes>"
      ]
     },
     "metadata": {
      "needs_background": "light"
     },
     "output_type": "display_data"
    }
   ],
   "source": [
    "#Create Bivariate Analysis of Churn and predictor variables.\n",
    "sns.scatterplot(x='Churn',y='Respectable_Response', data=df_cln)"
   ]
  },
  {
   "cell_type": "code",
   "execution_count": 57,
   "id": "9499f9bf",
   "metadata": {},
   "outputs": [
    {
     "data": {
      "text/plain": [
       "<AxesSubplot:xlabel='Churn', ylabel='Courteous_Exchange'>"
      ]
     },
     "execution_count": 57,
     "metadata": {},
     "output_type": "execute_result"
    },
    {
     "data": {
      "image/png": "[encoded data removed]",
      "text/plain": [
       "<Figure size 432x288 with 1 Axes>"
      ]
     },
     "metadata": {
      "needs_background": "light"
     },
     "output_type": "display_data"
    }
   ],
   "source": [
    "#Create Bivariate Analysis of Churn and predictor variables.\n",
    "sns.scatterplot(x='Churn',y='Courteous_Exchange', data=df_cln)"
   ]
  },
  {
   "cell_type": "code",
   "execution_count": 58,
   "id": "69ee815f",
   "metadata": {},
   "outputs": [
    {
     "data": {
      "text/plain": [
       "<AxesSubplot:xlabel='Churn', ylabel='Evidence_of_active_listening'>"
      ]
     },
     "execution_count": 58,
     "metadata": {},
     "output_type": "execute_result"
    },
    {
     "data": {
      "image/png": "[encoded data removed]",
      "text/plain": [
       "<Figure size 432x288 with 1 Axes>"
      ]
     },
     "metadata": {
      "needs_background": "light"
     },
     "output_type": "display_data"
    }
   ],
   "source": [
    "#Create Bivariate Analysis of Churn and predictor variables.\n",
    "sns.scatterplot(x='Churn',y='Evidence_of_active_listening', data=df_cln)"
   ]
  },
  {
   "cell_type": "code",
   "execution_count": 59,
   "id": "49ade3a2",
   "metadata": {},
   "outputs": [
    {
     "data": {
      "text/plain": [
       "<AxesSubplot:xlabel='Churn', ylabel='Sum_services'>"
      ]
     },
     "execution_count": 59,
     "metadata": {},
     "output_type": "execute_result"
    },
    {
     "data": {
      "image/png": "[encoded data removed]",
      "text/plain": [
       "<Figure size 432x288 with 1 Axes>"
      ]
     },
     "metadata": {
      "needs_background": "light"
     },
     "output_type": "display_data"
    }
   ],
   "source": [
    "#Create Bivariate Analysis of Churn and predictor variables.\n",
    "sns.regplot(x='Churn',y='Sum_services', data=df_cln, line_kws={\"color\": \"red\"})"
   ]
  },
  {
   "cell_type": "code",
   "execution_count": 60,
   "id": "958ae1f2",
   "metadata": {},
   "outputs": [
    {
     "data": {
      "text/plain": [
       "<AxesSubplot:xlabel='Churn', ylabel='Contract'>"
      ]
     },
     "execution_count": 60,
     "metadata": {},
     "output_type": "execute_result"
    },
    {
     "data": {
      "image/png": "[encoded data removed]",
      "text/plain": [
       "<Figure size 432x288 with 1 Axes>"
      ]
     },
     "metadata": {
      "needs_background": "light"
     },
     "output_type": "display_data"
    }
   ],
   "source": [
    "#Create Bivariate Analysis of Churn and predictor variables.\n",
    "sns.regplot(x='Churn',y='Contract', data=df_cln, line_kws={\"color\": \"red\"})"
   ]
  },
  {
   "cell_type": "code",
   "execution_count": 61,
   "id": "b0e1086d",
   "metadata": {},
   "outputs": [
    {
     "data": {
      "text/plain": [
       "<AxesSubplot:xlabel='Churn', ylabel='Area'>"
      ]
     },
     "execution_count": 61,
     "metadata": {},
     "output_type": "execute_result"
    },
    {
     "data": {
      "image/png": "[encoded data removed]",
      "text/plain": [
       "<Figure size 432x288 with 1 Axes>"
      ]
     },
     "metadata": {
      "needs_background": "light"
     },
     "output_type": "display_data"
    }
   ],
   "source": [
    "#Create Bivariate Analysis of Churn and predictor variables.\n",
    "sns.regplot(x='Churn',y='Area', data=df_cln, line_kws={\"color\": \"red\"})"
   ]
  },
  {
   "cell_type": "code",
   "execution_count": 62,
   "id": "0bee35a7",
   "metadata": {},
   "outputs": [
    {
     "data": {
      "text/plain": [
       "<AxesSubplot:xlabel='Churn', ylabel='Employment'>"
      ]
     },
     "execution_count": 62,
     "metadata": {},
     "output_type": "execute_result"
    },
    {
     "data": {
      "image/png": "[encoded data removed]",
      "text/plain": [
       "<Figure size 432x288 with 1 Axes>"
      ]
     },
     "metadata": {
      "needs_background": "light"
     },
     "output_type": "display_data"
    }
   ],
   "source": [
    "#Create Bivariate Analysis of Churn and predictor variables.\n",
    "sns.regplot(x='Churn',y='Employment', data=df_cln, line_kws={\"color\": \"red\"})"
   ]
  },
  {
   "cell_type": "code",
   "execution_count": 63,
   "id": "e50245ea",
   "metadata": {
    "scrolled": true
   },
   "outputs": [
    {
     "data": {
      "text/plain": [
       "<AxesSubplot:xlabel='Churn', ylabel='Income'>"
      ]
     },
     "execution_count": 63,
     "metadata": {},
     "output_type": "execute_result"
    },
    {
     "data": {
      "image/png": "[encoded data removed]",
      "text/plain": [
       "<Figure size 432x288 with 1 Axes>"
      ]
     },
     "metadata": {
      "needs_background": "light"
     },
     "output_type": "display_data"
    }
   ],
   "source": [
    "#Create Bivariate Analysis of Churn and predictor variables.\n",
    "sns.regplot(x='Churn',y='Income', data=df_cln, line_kws={\"color\": \"red\"})"
   ]
  },
  {
   "cell_type": "code",
   "execution_count": 64,
   "id": "50e4703d",
   "metadata": {},
   "outputs": [
    {
     "data": {
      "text/plain": [
       "<AxesSubplot:xlabel='Churn', ylabel='Timely_Fixes'>"
      ]
     },
     "execution_count": 64,
     "metadata": {},
     "output_type": "execute_result"
    },
    {
     "data": {
      "image/png": "[encoded data removed]",
      "text/plain": [
       "<Figure size 432x288 with 1 Axes>"
      ]
     },
     "metadata": {
      "needs_background": "light"
     },
     "output_type": "display_data"
    }
   ],
   "source": [
    "#Create Bivariate Analysis of Churn and predictor variables.\n",
    "sns.regplot(x='Churn',y='Timely_Fixes', data=df_cln, line_kws={\"color\": \"red\"})"
   ]
  },
  {
   "cell_type": "code",
   "execution_count": 65,
   "id": "bf0eb9d1",
   "metadata": {},
   "outputs": [
    {
     "data": {
      "text/plain": [
       "<AxesSubplot:xlabel='Churn', ylabel='Timely_Replacement'>"
      ]
     },
     "execution_count": 65,
     "metadata": {},
     "output_type": "execute_result"
    },
    {
     "data": {
      "image/png": "[encoded data removed]",
      "text/plain": [
       "<Figure size 432x288 with 1 Axes>"
      ]
     },
     "metadata": {
      "needs_background": "light"
     },
     "output_type": "display_data"
    }
   ],
   "source": [
    "#Create Bivariate Analysis of Churn and predictor variables.\n",
    "sns.regplot(x='Churn',y='Timely_Replacement', data=df_cln, line_kws={\"color\": \"red\"})"
   ]
  },
  {
   "cell_type": "code",
   "execution_count": 66,
   "id": "33a0e7bf",
   "metadata": {},
   "outputs": [
    {
     "data": {
      "text/plain": [
       "<AxesSubplot:xlabel='Churn', ylabel='Reliability'>"
      ]
     },
     "execution_count": 66,
     "metadata": {},
     "output_type": "execute_result"
    },
    {
     "data": {
      "image/png": "[encoded data removed]",
      "text/plain": [
       "<Figure size 432x288 with 1 Axes>"
      ]
     },
     "metadata": {
      "needs_background": "light"
     },
     "output_type": "display_data"
    }
   ],
   "source": [
    "#Create Bivariate Analysis of Churn and predictor variables.\n",
    "sns.regplot(x='Churn',y='Reliability', data=df_cln, line_kws={\"color\": \"red\"})"
   ]
  },
  {
   "cell_type": "code",
   "execution_count": 67,
   "id": "7295c9a4",
   "metadata": {},
   "outputs": [
    {
     "data": {
      "text/plain": [
       "<AxesSubplot:xlabel='Churn', ylabel='Options'>"
      ]
     },
     "execution_count": 67,
     "metadata": {},
     "output_type": "execute_result"
    },
    {
     "data": {
      "image/png": "[encoded data removed]",
      "text/plain": [
       "<Figure size 432x288 with 1 Axes>"
      ]
     },
     "metadata": {
      "needs_background": "light"
     },
     "output_type": "display_data"
    }
   ],
   "source": [
    "#Create Bivariate Analysis of Churn and predictor variables.\n",
    "sns.regplot(x='Churn',y='Options', data=df_cln, line_kws={\"color\": \"red\"})"
   ]
  },
  {
   "cell_type": "code",
   "execution_count": 68,
   "id": "866c3fc0",
   "metadata": {},
   "outputs": [
    {
     "data": {
      "text/plain": [
       "<AxesSubplot:xlabel='Churn', ylabel='Respectable_Response'>"
      ]
     },
     "execution_count": 68,
     "metadata": {},
     "output_type": "execute_result"
    },
    {
     "data": {
      "image/png": "[encoded data removed]",
      "text/plain": [
       "<Figure size 432x288 with 1 Axes>"
      ]
     },
     "metadata": {
      "needs_background": "light"
     },
     "output_type": "display_data"
    }
   ],
   "source": [
    "#Create Bivariate Analysis of Churn and predictor variables.\n",
    "sns.regplot(x='Churn',y='Respectable_Response', data=df_cln, line_kws={\"color\": \"red\"})"
   ]
  },
  {
   "cell_type": "code",
   "execution_count": 69,
   "id": "f1b7789f",
   "metadata": {},
   "outputs": [
    {
     "data": {
      "text/plain": [
       "<AxesSubplot:xlabel='Churn', ylabel='Courteous_Exchange'>"
      ]
     },
     "execution_count": 69,
     "metadata": {},
     "output_type": "execute_result"
    },
    {
     "data": {
      "image/png": "[encoded data removed]",
      "text/plain": [
       "<Figure size 432x288 with 1 Axes>"
      ]
     },
     "metadata": {
      "needs_background": "light"
     },
     "output_type": "display_data"
    }
   ],
   "source": [
    "#Create Bivariate Analysis of Churn and predictor variables.\n",
    "sns.regplot(x='Churn',y='Courteous_Exchange', data=df_cln, line_kws={\"color\": \"red\"})"
   ]
  },
  {
   "cell_type": "code",
   "execution_count": 70,
   "id": "80e773a2",
   "metadata": {
    "scrolled": true
   },
   "outputs": [
    {
     "data": {
      "text/plain": [
       "<AxesSubplot:xlabel='Churn', ylabel='Evidence_of_active_listening'>"
      ]
     },
     "execution_count": 70,
     "metadata": {},
     "output_type": "execute_result"
    },
    {
     "data": {
      "image/png": "[encoded data removed]",
      "text/plain": [
       "<Figure size 432x288 with 1 Axes>"
      ]
     },
     "metadata": {
      "needs_background": "light"
     },
     "output_type": "display_data"
    }
   ],
   "source": [
    "#Create Bivariate Analysis of Churn and predictor variables.\n",
    "sns.regplot(x='Churn',y='Evidence_of_active_listening', data=df_cln, line_kws={\"color\": \"red\"})"
   ]
  },
  {
   "cell_type": "code",
   "execution_count": 71,
   "id": "48b790f2",
   "metadata": {},
   "outputs": [],
   "source": [
    "#Export cleaned dataset to a new CSV file\n",
    "df_cln.to_csv('D209_Cleaned_Dataset_T1.csv')\n"
   ]
  },
  {
   "cell_type": "code",
   "execution_count": 72,
   "id": "b9f58951",
   "metadata": {
    "scrolled": false
   },
   "outputs": [
    {
     "data": {
      "text/html": [
       "<div>\n",
       "<style scoped>\n",
       "    .dataframe tbody tr th:only-of-type {\n",
       "        vertical-align: middle;\n",
       "    }\n",
       "\n",
       "    .dataframe tbody tr th {\n",
       "        vertical-align: top;\n",
       "    }\n",
       "\n",
       "    .dataframe thead th {\n",
       "        text-align: right;\n",
       "    }\n",
       "</style>\n",
       "<table border=\"1\" class=\"dataframe\">\n",
       "  <thead>\n",
       "    <tr style=\"text-align: right;\">\n",
       "      <th></th>\n",
       "      <th>Dummy_Rural</th>\n",
       "      <th>Dummy_Suburban</th>\n",
       "      <th>Dummy_Urban</th>\n",
       "      <th>Dummy_Full Time</th>\n",
       "      <th>Dummy_Part Time</th>\n",
       "      <th>Dummy_Retired</th>\n",
       "      <th>Dummy_Student</th>\n",
       "      <th>Dummy_Unemployed</th>\n",
       "      <th>Dummy_Month-to-month</th>\n",
       "      <th>Dummy_One year</th>\n",
       "      <th>Dummy_Two Year</th>\n",
       "    </tr>\n",
       "  </thead>\n",
       "  <tbody>\n",
       "    <tr>\n",
       "      <th>0</th>\n",
       "      <td>0</td>\n",
       "      <td>0</td>\n",
       "      <td>1</td>\n",
       "      <td>0</td>\n",
       "      <td>1</td>\n",
       "      <td>0</td>\n",
       "      <td>0</td>\n",
       "      <td>0</td>\n",
       "      <td>0</td>\n",
       "      <td>1</td>\n",
       "      <td>0</td>\n",
       "    </tr>\n",
       "    <tr>\n",
       "      <th>1</th>\n",
       "      <td>0</td>\n",
       "      <td>0</td>\n",
       "      <td>1</td>\n",
       "      <td>0</td>\n",
       "      <td>0</td>\n",
       "      <td>1</td>\n",
       "      <td>0</td>\n",
       "      <td>0</td>\n",
       "      <td>1</td>\n",
       "      <td>0</td>\n",
       "      <td>0</td>\n",
       "    </tr>\n",
       "    <tr>\n",
       "      <th>2</th>\n",
       "      <td>0</td>\n",
       "      <td>0</td>\n",
       "      <td>1</td>\n",
       "      <td>0</td>\n",
       "      <td>0</td>\n",
       "      <td>0</td>\n",
       "      <td>1</td>\n",
       "      <td>0</td>\n",
       "      <td>0</td>\n",
       "      <td>0</td>\n",
       "      <td>1</td>\n",
       "    </tr>\n",
       "    <tr>\n",
       "      <th>3</th>\n",
       "      <td>0</td>\n",
       "      <td>1</td>\n",
       "      <td>0</td>\n",
       "      <td>0</td>\n",
       "      <td>0</td>\n",
       "      <td>1</td>\n",
       "      <td>0</td>\n",
       "      <td>0</td>\n",
       "      <td>0</td>\n",
       "      <td>0</td>\n",
       "      <td>1</td>\n",
       "    </tr>\n",
       "    <tr>\n",
       "      <th>4</th>\n",
       "      <td>0</td>\n",
       "      <td>1</td>\n",
       "      <td>0</td>\n",
       "      <td>0</td>\n",
       "      <td>0</td>\n",
       "      <td>0</td>\n",
       "      <td>1</td>\n",
       "      <td>0</td>\n",
       "      <td>1</td>\n",
       "      <td>0</td>\n",
       "      <td>0</td>\n",
       "    </tr>\n",
       "    <tr>\n",
       "      <th>...</th>\n",
       "      <td>...</td>\n",
       "      <td>...</td>\n",
       "      <td>...</td>\n",
       "      <td>...</td>\n",
       "      <td>...</td>\n",
       "      <td>...</td>\n",
       "      <td>...</td>\n",
       "      <td>...</td>\n",
       "      <td>...</td>\n",
       "      <td>...</td>\n",
       "      <td>...</td>\n",
       "    </tr>\n",
       "    <tr>\n",
       "      <th>9995</th>\n",
       "      <td>1</td>\n",
       "      <td>0</td>\n",
       "      <td>0</td>\n",
       "      <td>0</td>\n",
       "      <td>0</td>\n",
       "      <td>1</td>\n",
       "      <td>0</td>\n",
       "      <td>0</td>\n",
       "      <td>1</td>\n",
       "      <td>0</td>\n",
       "      <td>0</td>\n",
       "    </tr>\n",
       "    <tr>\n",
       "      <th>9996</th>\n",
       "      <td>1</td>\n",
       "      <td>0</td>\n",
       "      <td>0</td>\n",
       "      <td>0</td>\n",
       "      <td>1</td>\n",
       "      <td>0</td>\n",
       "      <td>0</td>\n",
       "      <td>0</td>\n",
       "      <td>0</td>\n",
       "      <td>0</td>\n",
       "      <td>1</td>\n",
       "    </tr>\n",
       "    <tr>\n",
       "      <th>9997</th>\n",
       "      <td>1</td>\n",
       "      <td>0</td>\n",
       "      <td>0</td>\n",
       "      <td>1</td>\n",
       "      <td>0</td>\n",
       "      <td>0</td>\n",
       "      <td>0</td>\n",
       "      <td>0</td>\n",
       "      <td>1</td>\n",
       "      <td>0</td>\n",
       "      <td>0</td>\n",
       "    </tr>\n",
       "    <tr>\n",
       "      <th>9998</th>\n",
       "      <td>0</td>\n",
       "      <td>0</td>\n",
       "      <td>1</td>\n",
       "      <td>1</td>\n",
       "      <td>0</td>\n",
       "      <td>0</td>\n",
       "      <td>0</td>\n",
       "      <td>0</td>\n",
       "      <td>0</td>\n",
       "      <td>0</td>\n",
       "      <td>1</td>\n",
       "    </tr>\n",
       "    <tr>\n",
       "      <th>9999</th>\n",
       "      <td>0</td>\n",
       "      <td>0</td>\n",
       "      <td>1</td>\n",
       "      <td>1</td>\n",
       "      <td>0</td>\n",
       "      <td>0</td>\n",
       "      <td>0</td>\n",
       "      <td>0</td>\n",
       "      <td>1</td>\n",
       "      <td>0</td>\n",
       "      <td>0</td>\n",
       "    </tr>\n",
       "  </tbody>\n",
       "</table>\n",
       "<p>10000 rows × 11 columns</p>\n",
       "</div>"
      ],
      "text/plain": [
       "      Dummy_Rural  Dummy_Suburban  Dummy_Urban  Dummy_Full Time  \\\n",
       "0               0               0            1                0   \n",
       "1               0               0            1                0   \n",
       "2               0               0            1                0   \n",
       "3               0               1            0                0   \n",
       "4               0               1            0                0   \n",
       "...           ...             ...          ...              ...   \n",
       "9995            1               0            0                0   \n",
       "9996            1               0            0                0   \n",
       "9997            1               0            0                1   \n",
       "9998            0               0            1                1   \n",
       "9999            0               0            1                1   \n",
       "\n",
       "      Dummy_Part Time  Dummy_Retired  Dummy_Student  Dummy_Unemployed  \\\n",
       "0                   1              0              0                 0   \n",
       "1                   0              1              0                 0   \n",
       "2                   0              0              1                 0   \n",
       "3                   0              1              0                 0   \n",
       "4                   0              0              1                 0   \n",
       "...               ...            ...            ...               ...   \n",
       "9995                0              1              0                 0   \n",
       "9996                1              0              0                 0   \n",
       "9997                0              0              0                 0   \n",
       "9998                0              0              0                 0   \n",
       "9999                0              0              0                 0   \n",
       "\n",
       "      Dummy_Month-to-month  Dummy_One year  Dummy_Two Year  \n",
       "0                        0               1               0  \n",
       "1                        1               0               0  \n",
       "2                        0               0               1  \n",
       "3                        0               0               1  \n",
       "4                        1               0               0  \n",
       "...                    ...             ...             ...  \n",
       "9995                     1               0               0  \n",
       "9996                     0               0               1  \n",
       "9997                     1               0               0  \n",
       "9998                     0               0               1  \n",
       "9999                     1               0               0  \n",
       "\n",
       "[10000 rows x 11 columns]"
      ]
     },
     "execution_count": 72,
     "metadata": {},
     "output_type": "execute_result"
    }
   ],
   "source": [
    "#Create Dummy Variables for Categorical Variables\n",
    "d_var=pd.get_dummies(df[['Area','Employment','Contract']], prefix=\"Dummy\")\n",
    "d_var"
   ]
  },
  {
   "cell_type": "code",
   "execution_count": 74,
   "id": "ca54aeab",
   "metadata": {},
   "outputs": [
    {
     "data": {
      "text/html": [
       "<div>\n",
       "<style scoped>\n",
       "    .dataframe tbody tr th:only-of-type {\n",
       "        vertical-align: middle;\n",
       "    }\n",
       "\n",
       "    .dataframe tbody tr th {\n",
       "        vertical-align: top;\n",
       "    }\n",
       "\n",
       "    .dataframe thead th {\n",
       "        text-align: right;\n",
       "    }\n",
       "</style>\n",
       "<table border=\"1\" class=\"dataframe\">\n",
       "  <thead>\n",
       "    <tr style=\"text-align: right;\">\n",
       "      <th></th>\n",
       "      <th>Income</th>\n",
       "      <th>Timely_Response</th>\n",
       "      <th>Timely_Fixes</th>\n",
       "      <th>Timely_Replacement</th>\n",
       "      <th>Reliability</th>\n",
       "      <th>Options</th>\n",
       "      <th>Respectable_Response</th>\n",
       "      <th>Courteous_Exchange</th>\n",
       "      <th>Evidence_of_active_listening</th>\n",
       "      <th>Sum_services</th>\n",
       "      <th>...</th>\n",
       "      <th>Dummy_Suburban</th>\n",
       "      <th>Dummy_Urban</th>\n",
       "      <th>Dummy_Full Time</th>\n",
       "      <th>Dummy_Part Time</th>\n",
       "      <th>Dummy_Retired</th>\n",
       "      <th>Dummy_Student</th>\n",
       "      <th>Dummy_Unemployed</th>\n",
       "      <th>Dummy_Month-to-month</th>\n",
       "      <th>Dummy_One year</th>\n",
       "      <th>Dummy_Two Year</th>\n",
       "    </tr>\n",
       "  </thead>\n",
       "  <tbody>\n",
       "    <tr>\n",
       "      <th>0</th>\n",
       "      <td>28561.990000</td>\n",
       "      <td>5.0</td>\n",
       "      <td>5.0</td>\n",
       "      <td>5.0</td>\n",
       "      <td>3.0</td>\n",
       "      <td>4.0</td>\n",
       "      <td>4.0</td>\n",
       "      <td>3.0</td>\n",
       "      <td>4.0</td>\n",
       "      <td>5.0</td>\n",
       "      <td>...</td>\n",
       "      <td>0</td>\n",
       "      <td>1</td>\n",
       "      <td>0</td>\n",
       "      <td>1</td>\n",
       "      <td>0</td>\n",
       "      <td>0</td>\n",
       "      <td>0</td>\n",
       "      <td>0</td>\n",
       "      <td>1</td>\n",
       "      <td>0</td>\n",
       "    </tr>\n",
       "    <tr>\n",
       "      <th>1</th>\n",
       "      <td>21704.770000</td>\n",
       "      <td>3.0</td>\n",
       "      <td>4.0</td>\n",
       "      <td>3.0</td>\n",
       "      <td>3.0</td>\n",
       "      <td>4.0</td>\n",
       "      <td>3.0</td>\n",
       "      <td>4.0</td>\n",
       "      <td>4.0</td>\n",
       "      <td>6.0</td>\n",
       "      <td>...</td>\n",
       "      <td>0</td>\n",
       "      <td>1</td>\n",
       "      <td>0</td>\n",
       "      <td>0</td>\n",
       "      <td>1</td>\n",
       "      <td>0</td>\n",
       "      <td>0</td>\n",
       "      <td>1</td>\n",
       "      <td>0</td>\n",
       "      <td>0</td>\n",
       "    </tr>\n",
       "    <tr>\n",
       "      <th>2</th>\n",
       "      <td>39936.762226</td>\n",
       "      <td>4.0</td>\n",
       "      <td>4.0</td>\n",
       "      <td>2.0</td>\n",
       "      <td>4.0</td>\n",
       "      <td>4.0</td>\n",
       "      <td>3.0</td>\n",
       "      <td>3.0</td>\n",
       "      <td>3.0</td>\n",
       "      <td>4.0</td>\n",
       "      <td>...</td>\n",
       "      <td>0</td>\n",
       "      <td>1</td>\n",
       "      <td>0</td>\n",
       "      <td>0</td>\n",
       "      <td>0</td>\n",
       "      <td>1</td>\n",
       "      <td>0</td>\n",
       "      <td>0</td>\n",
       "      <td>0</td>\n",
       "      <td>1</td>\n",
       "    </tr>\n",
       "    <tr>\n",
       "      <th>3</th>\n",
       "      <td>18925.230000</td>\n",
       "      <td>4.0</td>\n",
       "      <td>4.0</td>\n",
       "      <td>4.0</td>\n",
       "      <td>2.0</td>\n",
       "      <td>5.0</td>\n",
       "      <td>4.0</td>\n",
       "      <td>3.0</td>\n",
       "      <td>3.0</td>\n",
       "      <td>4.0</td>\n",
       "      <td>...</td>\n",
       "      <td>1</td>\n",
       "      <td>0</td>\n",
       "      <td>0</td>\n",
       "      <td>0</td>\n",
       "      <td>1</td>\n",
       "      <td>0</td>\n",
       "      <td>0</td>\n",
       "      <td>0</td>\n",
       "      <td>0</td>\n",
       "      <td>1</td>\n",
       "    </tr>\n",
       "    <tr>\n",
       "      <th>4</th>\n",
       "      <td>40074.190000</td>\n",
       "      <td>4.0</td>\n",
       "      <td>4.0</td>\n",
       "      <td>4.0</td>\n",
       "      <td>3.0</td>\n",
       "      <td>4.0</td>\n",
       "      <td>4.0</td>\n",
       "      <td>4.0</td>\n",
       "      <td>5.0</td>\n",
       "      <td>3.0</td>\n",
       "      <td>...</td>\n",
       "      <td>1</td>\n",
       "      <td>0</td>\n",
       "      <td>0</td>\n",
       "      <td>0</td>\n",
       "      <td>0</td>\n",
       "      <td>1</td>\n",
       "      <td>0</td>\n",
       "      <td>1</td>\n",
       "      <td>0</td>\n",
       "      <td>0</td>\n",
       "    </tr>\n",
       "    <tr>\n",
       "      <th>...</th>\n",
       "      <td>...</td>\n",
       "      <td>...</td>\n",
       "      <td>...</td>\n",
       "      <td>...</td>\n",
       "      <td>...</td>\n",
       "      <td>...</td>\n",
       "      <td>...</td>\n",
       "      <td>...</td>\n",
       "      <td>...</td>\n",
       "      <td>...</td>\n",
       "      <td>...</td>\n",
       "      <td>...</td>\n",
       "      <td>...</td>\n",
       "      <td>...</td>\n",
       "      <td>...</td>\n",
       "      <td>...</td>\n",
       "      <td>...</td>\n",
       "      <td>...</td>\n",
       "      <td>...</td>\n",
       "      <td>...</td>\n",
       "      <td>...</td>\n",
       "    </tr>\n",
       "    <tr>\n",
       "      <th>9995</th>\n",
       "      <td>55723.740000</td>\n",
       "      <td>3.0</td>\n",
       "      <td>2.0</td>\n",
       "      <td>3.0</td>\n",
       "      <td>3.0</td>\n",
       "      <td>4.0</td>\n",
       "      <td>3.0</td>\n",
       "      <td>2.0</td>\n",
       "      <td>3.0</td>\n",
       "      <td>4.0</td>\n",
       "      <td>...</td>\n",
       "      <td>0</td>\n",
       "      <td>0</td>\n",
       "      <td>0</td>\n",
       "      <td>0</td>\n",
       "      <td>1</td>\n",
       "      <td>0</td>\n",
       "      <td>0</td>\n",
       "      <td>1</td>\n",
       "      <td>0</td>\n",
       "      <td>0</td>\n",
       "    </tr>\n",
       "    <tr>\n",
       "      <th>9996</th>\n",
       "      <td>39936.762226</td>\n",
       "      <td>4.0</td>\n",
       "      <td>5.0</td>\n",
       "      <td>5.0</td>\n",
       "      <td>4.0</td>\n",
       "      <td>4.0</td>\n",
       "      <td>5.0</td>\n",
       "      <td>2.0</td>\n",
       "      <td>5.0</td>\n",
       "      <td>6.0</td>\n",
       "      <td>...</td>\n",
       "      <td>0</td>\n",
       "      <td>0</td>\n",
       "      <td>0</td>\n",
       "      <td>1</td>\n",
       "      <td>0</td>\n",
       "      <td>0</td>\n",
       "      <td>0</td>\n",
       "      <td>0</td>\n",
       "      <td>0</td>\n",
       "      <td>1</td>\n",
       "    </tr>\n",
       "    <tr>\n",
       "      <th>9997</th>\n",
       "      <td>39936.762226</td>\n",
       "      <td>4.0</td>\n",
       "      <td>4.0</td>\n",
       "      <td>4.0</td>\n",
       "      <td>4.0</td>\n",
       "      <td>4.0</td>\n",
       "      <td>4.0</td>\n",
       "      <td>4.0</td>\n",
       "      <td>5.0</td>\n",
       "      <td>5.0</td>\n",
       "      <td>...</td>\n",
       "      <td>0</td>\n",
       "      <td>0</td>\n",
       "      <td>1</td>\n",
       "      <td>0</td>\n",
       "      <td>0</td>\n",
       "      <td>0</td>\n",
       "      <td>0</td>\n",
       "      <td>1</td>\n",
       "      <td>0</td>\n",
       "      <td>0</td>\n",
       "    </tr>\n",
       "    <tr>\n",
       "      <th>9998</th>\n",
       "      <td>16667.580000</td>\n",
       "      <td>4.0</td>\n",
       "      <td>4.0</td>\n",
       "      <td>6.0</td>\n",
       "      <td>4.0</td>\n",
       "      <td>3.0</td>\n",
       "      <td>3.0</td>\n",
       "      <td>5.0</td>\n",
       "      <td>4.0</td>\n",
       "      <td>5.0</td>\n",
       "      <td>...</td>\n",
       "      <td>0</td>\n",
       "      <td>1</td>\n",
       "      <td>1</td>\n",
       "      <td>0</td>\n",
       "      <td>0</td>\n",
       "      <td>0</td>\n",
       "      <td>0</td>\n",
       "      <td>0</td>\n",
       "      <td>0</td>\n",
       "      <td>1</td>\n",
       "    </tr>\n",
       "    <tr>\n",
       "      <th>9999</th>\n",
       "      <td>39936.762226</td>\n",
       "      <td>2.0</td>\n",
       "      <td>2.0</td>\n",
       "      <td>3.0</td>\n",
       "      <td>3.0</td>\n",
       "      <td>3.0</td>\n",
       "      <td>3.0</td>\n",
       "      <td>4.0</td>\n",
       "      <td>1.0</td>\n",
       "      <td>7.0</td>\n",
       "      <td>...</td>\n",
       "      <td>0</td>\n",
       "      <td>1</td>\n",
       "      <td>1</td>\n",
       "      <td>0</td>\n",
       "      <td>0</td>\n",
       "      <td>0</td>\n",
       "      <td>0</td>\n",
       "      <td>1</td>\n",
       "      <td>0</td>\n",
       "      <td>0</td>\n",
       "    </tr>\n",
       "  </tbody>\n",
       "</table>\n",
       "<p>9978 rows × 21 columns</p>\n",
       "</div>"
      ],
      "text/plain": [
       "            Income  Timely_Response  Timely_Fixes  Timely_Replacement  \\\n",
       "0     28561.990000              5.0           5.0                 5.0   \n",
       "1     21704.770000              3.0           4.0                 3.0   \n",
       "2     39936.762226              4.0           4.0                 2.0   \n",
       "3     18925.230000              4.0           4.0                 4.0   \n",
       "4     40074.190000              4.0           4.0                 4.0   \n",
       "...            ...              ...           ...                 ...   \n",
       "9995  55723.740000              3.0           2.0                 3.0   \n",
       "9996  39936.762226              4.0           5.0                 5.0   \n",
       "9997  39936.762226              4.0           4.0                 4.0   \n",
       "9998  16667.580000              4.0           4.0                 6.0   \n",
       "9999  39936.762226              2.0           2.0                 3.0   \n",
       "\n",
       "      Reliability  Options  Respectable_Response  Courteous_Exchange  \\\n",
       "0             3.0      4.0                   4.0                 3.0   \n",
       "1             3.0      4.0                   3.0                 4.0   \n",
       "2             4.0      4.0                   3.0                 3.0   \n",
       "3             2.0      5.0                   4.0                 3.0   \n",
       "4             3.0      4.0                   4.0                 4.0   \n",
       "...           ...      ...                   ...                 ...   \n",
       "9995          3.0      4.0                   3.0                 2.0   \n",
       "9996          4.0      4.0                   5.0                 2.0   \n",
       "9997          4.0      4.0                   4.0                 4.0   \n",
       "9998          4.0      3.0                   3.0                 5.0   \n",
       "9999          3.0      3.0                   3.0                 4.0   \n",
       "\n",
       "      Evidence_of_active_listening  Sum_services  ...  Dummy_Suburban  \\\n",
       "0                              4.0           5.0  ...               0   \n",
       "1                              4.0           6.0  ...               0   \n",
       "2                              3.0           4.0  ...               0   \n",
       "3                              3.0           4.0  ...               1   \n",
       "4                              5.0           3.0  ...               1   \n",
       "...                            ...           ...  ...             ...   \n",
       "9995                           3.0           4.0  ...               0   \n",
       "9996                           5.0           6.0  ...               0   \n",
       "9997                           5.0           5.0  ...               0   \n",
       "9998                           4.0           5.0  ...               0   \n",
       "9999                           1.0           7.0  ...               0   \n",
       "\n",
       "      Dummy_Urban  Dummy_Full Time  Dummy_Part Time  Dummy_Retired  \\\n",
       "0               1                0                1              0   \n",
       "1               1                0                0              1   \n",
       "2               1                0                0              0   \n",
       "3               0                0                0              1   \n",
       "4               0                0                0              0   \n",
       "...           ...              ...              ...            ...   \n",
       "9995            0                0                0              1   \n",
       "9996            0                0                1              0   \n",
       "9997            0                1                0              0   \n",
       "9998            1                1                0              0   \n",
       "9999            1                1                0              0   \n",
       "\n",
       "      Dummy_Student  Dummy_Unemployed  Dummy_Month-to-month  Dummy_One year  \\\n",
       "0                 0                 0                     0               1   \n",
       "1                 0                 0                     1               0   \n",
       "2                 1                 0                     0               0   \n",
       "3                 0                 0                     0               0   \n",
       "4                 1                 0                     1               0   \n",
       "...             ...               ...                   ...             ...   \n",
       "9995              0                 0                     1               0   \n",
       "9996              0                 0                     0               0   \n",
       "9997              0                 0                     1               0   \n",
       "9998              0                 0                     0               0   \n",
       "9999              0                 0                     1               0   \n",
       "\n",
       "      Dummy_Two Year  \n",
       "0                  0  \n",
       "1                  0  \n",
       "2                  1  \n",
       "3                  1  \n",
       "4                  0  \n",
       "...              ...  \n",
       "9995               0  \n",
       "9996               1  \n",
       "9997               0  \n",
       "9998               1  \n",
       "9999               0  \n",
       "\n",
       "[9978 rows x 21 columns]"
      ]
     },
     "execution_count": 74,
     "metadata": {},
     "output_type": "execute_result"
    }
   ],
   "source": [
    "#Add the dummy variable to a new df. Drop the rows that has null values and create copy of the data frame.\n",
    "df_model=pd.concat([df_cln,d_var], axis=1)\n",
    "df_model=df_model.dropna()\n",
    "logit_clndf=df_model\n",
    "df_model=df_model.drop(['Area','Employment','Contract','Churn'], axis=1)\n",
    "df_model"
   ]
  },
  {
   "cell_type": "code",
   "execution_count": 75,
   "id": "410c806a",
   "metadata": {},
   "outputs": [
    {
     "data": {
      "text/plain": [
       "(9978, 21)"
      ]
     },
     "execution_count": 75,
     "metadata": {},
     "output_type": "execute_result"
    }
   ],
   "source": [
    "#Review the dataframe\n",
    "df_model.shape"
   ]
  },
  {
   "cell_type": "code",
   "execution_count": 76,
   "id": "8c9f80ff",
   "metadata": {},
   "outputs": [
    {
     "data": {
      "text/html": [
       "<div>\n",
       "<style scoped>\n",
       "    .dataframe tbody tr th:only-of-type {\n",
       "        vertical-align: middle;\n",
       "    }\n",
       "\n",
       "    .dataframe tbody tr th {\n",
       "        vertical-align: top;\n",
       "    }\n",
       "\n",
       "    .dataframe thead th {\n",
       "        text-align: right;\n",
       "    }\n",
       "</style>\n",
       "<table border=\"1\" class=\"dataframe\">\n",
       "  <thead>\n",
       "    <tr style=\"text-align: right;\">\n",
       "      <th></th>\n",
       "      <th>Income</th>\n",
       "      <th>Timely_Response</th>\n",
       "      <th>Timely_Fixes</th>\n",
       "      <th>Timely_Replacement</th>\n",
       "      <th>Reliability</th>\n",
       "      <th>Options</th>\n",
       "      <th>Respectable_Response</th>\n",
       "      <th>Courteous_Exchange</th>\n",
       "      <th>Evidence_of_active_listening</th>\n",
       "      <th>Sum_services</th>\n",
       "      <th>...</th>\n",
       "      <th>Dummy_Suburban</th>\n",
       "      <th>Dummy_Urban</th>\n",
       "      <th>Dummy_Full Time</th>\n",
       "      <th>Dummy_Part Time</th>\n",
       "      <th>Dummy_Retired</th>\n",
       "      <th>Dummy_Student</th>\n",
       "      <th>Dummy_Unemployed</th>\n",
       "      <th>Dummy_Month-to-month</th>\n",
       "      <th>Dummy_One year</th>\n",
       "      <th>Dummy_Two Year</th>\n",
       "    </tr>\n",
       "  </thead>\n",
       "  <tbody>\n",
       "    <tr>\n",
       "      <th>count</th>\n",
       "      <td>9978.000000</td>\n",
       "      <td>9978.00000</td>\n",
       "      <td>9978.000000</td>\n",
       "      <td>9978.000000</td>\n",
       "      <td>9978.000000</td>\n",
       "      <td>9978.000000</td>\n",
       "      <td>9978.000000</td>\n",
       "      <td>9978.000000</td>\n",
       "      <td>9978.000000</td>\n",
       "      <td>9978.000000</td>\n",
       "      <td>...</td>\n",
       "      <td>9978.000000</td>\n",
       "      <td>9978.000000</td>\n",
       "      <td>9978.000000</td>\n",
       "      <td>9978.000000</td>\n",
       "      <td>9978.000000</td>\n",
       "      <td>9978.000000</td>\n",
       "      <td>9978.000000</td>\n",
       "      <td>9978.000000</td>\n",
       "      <td>9978.000000</td>\n",
       "      <td>9978.000000</td>\n",
       "    </tr>\n",
       "    <tr>\n",
       "      <th>mean</th>\n",
       "      <td>39954.802691</td>\n",
       "      <td>3.49078</td>\n",
       "      <td>3.504710</td>\n",
       "      <td>3.486170</td>\n",
       "      <td>3.497895</td>\n",
       "      <td>3.492884</td>\n",
       "      <td>3.497194</td>\n",
       "      <td>3.510122</td>\n",
       "      <td>3.495791</td>\n",
       "      <td>4.621668</td>\n",
       "      <td>...</td>\n",
       "      <td>0.334837</td>\n",
       "      <td>0.332932</td>\n",
       "      <td>0.599419</td>\n",
       "      <td>0.104029</td>\n",
       "      <td>0.101122</td>\n",
       "      <td>0.096412</td>\n",
       "      <td>0.099018</td>\n",
       "      <td>0.546101</td>\n",
       "      <td>0.209862</td>\n",
       "      <td>0.244037</td>\n",
       "    </tr>\n",
       "    <tr>\n",
       "      <th>std</th>\n",
       "      <td>24581.323593</td>\n",
       "      <td>1.03771</td>\n",
       "      <td>1.034742</td>\n",
       "      <td>1.027857</td>\n",
       "      <td>1.025995</td>\n",
       "      <td>1.024996</td>\n",
       "      <td>1.033683</td>\n",
       "      <td>1.028582</td>\n",
       "      <td>1.029013</td>\n",
       "      <td>1.410267</td>\n",
       "      <td>...</td>\n",
       "      <td>0.471957</td>\n",
       "      <td>0.471286</td>\n",
       "      <td>0.490041</td>\n",
       "      <td>0.305313</td>\n",
       "      <td>0.301506</td>\n",
       "      <td>0.295170</td>\n",
       "      <td>0.298701</td>\n",
       "      <td>0.497895</td>\n",
       "      <td>0.407230</td>\n",
       "      <td>0.429536</td>\n",
       "    </tr>\n",
       "    <tr>\n",
       "      <th>min</th>\n",
       "      <td>740.660000</td>\n",
       "      <td>1.00000</td>\n",
       "      <td>1.000000</td>\n",
       "      <td>1.000000</td>\n",
       "      <td>1.000000</td>\n",
       "      <td>1.000000</td>\n",
       "      <td>1.000000</td>\n",
       "      <td>1.000000</td>\n",
       "      <td>1.000000</td>\n",
       "      <td>1.000000</td>\n",
       "      <td>...</td>\n",
       "      <td>0.000000</td>\n",
       "      <td>0.000000</td>\n",
       "      <td>0.000000</td>\n",
       "      <td>0.000000</td>\n",
       "      <td>0.000000</td>\n",
       "      <td>0.000000</td>\n",
       "      <td>0.000000</td>\n",
       "      <td>0.000000</td>\n",
       "      <td>0.000000</td>\n",
       "      <td>0.000000</td>\n",
       "    </tr>\n",
       "    <tr>\n",
       "      <th>25%</th>\n",
       "      <td>23670.642500</td>\n",
       "      <td>3.00000</td>\n",
       "      <td>3.000000</td>\n",
       "      <td>3.000000</td>\n",
       "      <td>3.000000</td>\n",
       "      <td>3.000000</td>\n",
       "      <td>3.000000</td>\n",
       "      <td>3.000000</td>\n",
       "      <td>3.000000</td>\n",
       "      <td>4.000000</td>\n",
       "      <td>...</td>\n",
       "      <td>0.000000</td>\n",
       "      <td>0.000000</td>\n",
       "      <td>0.000000</td>\n",
       "      <td>0.000000</td>\n",
       "      <td>0.000000</td>\n",
       "      <td>0.000000</td>\n",
       "      <td>0.000000</td>\n",
       "      <td>0.000000</td>\n",
       "      <td>0.000000</td>\n",
       "      <td>0.000000</td>\n",
       "    </tr>\n",
       "    <tr>\n",
       "      <th>50%</th>\n",
       "      <td>39936.762226</td>\n",
       "      <td>3.00000</td>\n",
       "      <td>4.000000</td>\n",
       "      <td>3.000000</td>\n",
       "      <td>3.500000</td>\n",
       "      <td>3.000000</td>\n",
       "      <td>3.000000</td>\n",
       "      <td>4.000000</td>\n",
       "      <td>3.000000</td>\n",
       "      <td>5.000000</td>\n",
       "      <td>...</td>\n",
       "      <td>0.000000</td>\n",
       "      <td>0.000000</td>\n",
       "      <td>1.000000</td>\n",
       "      <td>0.000000</td>\n",
       "      <td>0.000000</td>\n",
       "      <td>0.000000</td>\n",
       "      <td>0.000000</td>\n",
       "      <td>1.000000</td>\n",
       "      <td>0.000000</td>\n",
       "      <td>0.000000</td>\n",
       "    </tr>\n",
       "    <tr>\n",
       "      <th>75%</th>\n",
       "      <td>45512.015000</td>\n",
       "      <td>4.00000</td>\n",
       "      <td>4.000000</td>\n",
       "      <td>4.000000</td>\n",
       "      <td>4.000000</td>\n",
       "      <td>4.000000</td>\n",
       "      <td>4.000000</td>\n",
       "      <td>4.000000</td>\n",
       "      <td>4.000000</td>\n",
       "      <td>6.000000</td>\n",
       "      <td>...</td>\n",
       "      <td>1.000000</td>\n",
       "      <td>1.000000</td>\n",
       "      <td>1.000000</td>\n",
       "      <td>0.000000</td>\n",
       "      <td>0.000000</td>\n",
       "      <td>0.000000</td>\n",
       "      <td>0.000000</td>\n",
       "      <td>1.000000</td>\n",
       "      <td>0.000000</td>\n",
       "      <td>0.000000</td>\n",
       "    </tr>\n",
       "    <tr>\n",
       "      <th>max</th>\n",
       "      <td>258900.700000</td>\n",
       "      <td>7.00000</td>\n",
       "      <td>7.000000</td>\n",
       "      <td>8.000000</td>\n",
       "      <td>7.000000</td>\n",
       "      <td>7.000000</td>\n",
       "      <td>8.000000</td>\n",
       "      <td>7.000000</td>\n",
       "      <td>8.000000</td>\n",
       "      <td>8.000000</td>\n",
       "      <td>...</td>\n",
       "      <td>1.000000</td>\n",
       "      <td>1.000000</td>\n",
       "      <td>1.000000</td>\n",
       "      <td>1.000000</td>\n",
       "      <td>1.000000</td>\n",
       "      <td>1.000000</td>\n",
       "      <td>1.000000</td>\n",
       "      <td>1.000000</td>\n",
       "      <td>1.000000</td>\n",
       "      <td>1.000000</td>\n",
       "    </tr>\n",
       "  </tbody>\n",
       "</table>\n",
       "<p>8 rows × 21 columns</p>\n",
       "</div>"
      ],
      "text/plain": [
       "              Income  Timely_Response  Timely_Fixes  Timely_Replacement  \\\n",
       "count    9978.000000       9978.00000   9978.000000         9978.000000   \n",
       "mean    39954.802691          3.49078      3.504710            3.486170   \n",
       "std     24581.323593          1.03771      1.034742            1.027857   \n",
       "min       740.660000          1.00000      1.000000            1.000000   \n",
       "25%     23670.642500          3.00000      3.000000            3.000000   \n",
       "50%     39936.762226          3.00000      4.000000            3.000000   \n",
       "75%     45512.015000          4.00000      4.000000            4.000000   \n",
       "max    258900.700000          7.00000      7.000000            8.000000   \n",
       "\n",
       "       Reliability      Options  Respectable_Response  Courteous_Exchange  \\\n",
       "count  9978.000000  9978.000000           9978.000000         9978.000000   \n",
       "mean      3.497895     3.492884              3.497194            3.510122   \n",
       "std       1.025995     1.024996              1.033683            1.028582   \n",
       "min       1.000000     1.000000              1.000000            1.000000   \n",
       "25%       3.000000     3.000000              3.000000            3.000000   \n",
       "50%       3.500000     3.000000              3.000000            4.000000   \n",
       "75%       4.000000     4.000000              4.000000            4.000000   \n",
       "max       7.000000     7.000000              8.000000            7.000000   \n",
       "\n",
       "       Evidence_of_active_listening  Sum_services  ...  Dummy_Suburban  \\\n",
       "count                   9978.000000   9978.000000  ...     9978.000000   \n",
       "mean                       3.495791      4.621668  ...        0.334837   \n",
       "std                        1.029013      1.410267  ...        0.471957   \n",
       "min                        1.000000      1.000000  ...        0.000000   \n",
       "25%                        3.000000      4.000000  ...        0.000000   \n",
       "50%                        3.000000      5.000000  ...        0.000000   \n",
       "75%                        4.000000      6.000000  ...        1.000000   \n",
       "max                        8.000000      8.000000  ...        1.000000   \n",
       "\n",
       "       Dummy_Urban  Dummy_Full Time  Dummy_Part Time  Dummy_Retired  \\\n",
       "count  9978.000000      9978.000000      9978.000000    9978.000000   \n",
       "mean      0.332932         0.599419         0.104029       0.101122   \n",
       "std       0.471286         0.490041         0.305313       0.301506   \n",
       "min       0.000000         0.000000         0.000000       0.000000   \n",
       "25%       0.000000         0.000000         0.000000       0.000000   \n",
       "50%       0.000000         1.000000         0.000000       0.000000   \n",
       "75%       1.000000         1.000000         0.000000       0.000000   \n",
       "max       1.000000         1.000000         1.000000       1.000000   \n",
       "\n",
       "       Dummy_Student  Dummy_Unemployed  Dummy_Month-to-month  Dummy_One year  \\\n",
       "count    9978.000000       9978.000000           9978.000000     9978.000000   \n",
       "mean        0.096412          0.099018              0.546101        0.209862   \n",
       "std         0.295170          0.298701              0.497895        0.407230   \n",
       "min         0.000000          0.000000              0.000000        0.000000   \n",
       "25%         0.000000          0.000000              0.000000        0.000000   \n",
       "50%         0.000000          0.000000              1.000000        0.000000   \n",
       "75%         0.000000          0.000000              1.000000        0.000000   \n",
       "max         1.000000          1.000000              1.000000        1.000000   \n",
       "\n",
       "       Dummy_Two Year  \n",
       "count     9978.000000  \n",
       "mean         0.244037  \n",
       "std          0.429536  \n",
       "min          0.000000  \n",
       "25%          0.000000  \n",
       "50%          0.000000  \n",
       "75%          0.000000  \n",
       "max          1.000000  \n",
       "\n",
       "[8 rows x 21 columns]"
      ]
     },
     "execution_count": 76,
     "metadata": {},
     "output_type": "execute_result"
    }
   ],
   "source": [
    "#Summary statistic for dataset use in regression analysis\n",
    "df_model.describe()"
   ]
  },
  {
   "cell_type": "code",
   "execution_count": 77,
   "id": "cd7a1d0e",
   "metadata": {},
   "outputs": [
    {
     "data": {
      "text/html": [
       "<div>\n",
       "<style scoped>\n",
       "    .dataframe tbody tr th:only-of-type {\n",
       "        vertical-align: middle;\n",
       "    }\n",
       "\n",
       "    .dataframe tbody tr th {\n",
       "        vertical-align: top;\n",
       "    }\n",
       "\n",
       "    .dataframe thead th {\n",
       "        text-align: right;\n",
       "    }\n",
       "</style>\n",
       "<table border=\"1\" class=\"dataframe\">\n",
       "  <thead>\n",
       "    <tr style=\"text-align: right;\">\n",
       "      <th></th>\n",
       "      <th>Income</th>\n",
       "      <th>Timely_Response</th>\n",
       "      <th>Timely_Fixes</th>\n",
       "      <th>Timely_Replacement</th>\n",
       "      <th>Reliability</th>\n",
       "      <th>Options</th>\n",
       "      <th>Respectable_Response</th>\n",
       "      <th>Courteous_Exchange</th>\n",
       "      <th>Evidence_of_active_listening</th>\n",
       "      <th>Sum_services</th>\n",
       "      <th>...</th>\n",
       "      <th>Dummy_Suburban</th>\n",
       "      <th>Dummy_Urban</th>\n",
       "      <th>Dummy_Full Time</th>\n",
       "      <th>Dummy_Part Time</th>\n",
       "      <th>Dummy_Retired</th>\n",
       "      <th>Dummy_Student</th>\n",
       "      <th>Dummy_Unemployed</th>\n",
       "      <th>Dummy_Month-to-month</th>\n",
       "      <th>Dummy_One year</th>\n",
       "      <th>Dummy_Two Year</th>\n",
       "    </tr>\n",
       "  </thead>\n",
       "  <tbody>\n",
       "    <tr>\n",
       "      <th>0</th>\n",
       "      <td>28561.990000</td>\n",
       "      <td>5.0</td>\n",
       "      <td>5.0</td>\n",
       "      <td>5.0</td>\n",
       "      <td>3.0</td>\n",
       "      <td>4.0</td>\n",
       "      <td>4.0</td>\n",
       "      <td>3.0</td>\n",
       "      <td>4.0</td>\n",
       "      <td>5.0</td>\n",
       "      <td>...</td>\n",
       "      <td>0</td>\n",
       "      <td>1</td>\n",
       "      <td>0</td>\n",
       "      <td>1</td>\n",
       "      <td>0</td>\n",
       "      <td>0</td>\n",
       "      <td>0</td>\n",
       "      <td>0</td>\n",
       "      <td>1</td>\n",
       "      <td>0</td>\n",
       "    </tr>\n",
       "    <tr>\n",
       "      <th>1</th>\n",
       "      <td>21704.770000</td>\n",
       "      <td>3.0</td>\n",
       "      <td>4.0</td>\n",
       "      <td>3.0</td>\n",
       "      <td>3.0</td>\n",
       "      <td>4.0</td>\n",
       "      <td>3.0</td>\n",
       "      <td>4.0</td>\n",
       "      <td>4.0</td>\n",
       "      <td>6.0</td>\n",
       "      <td>...</td>\n",
       "      <td>0</td>\n",
       "      <td>1</td>\n",
       "      <td>0</td>\n",
       "      <td>0</td>\n",
       "      <td>1</td>\n",
       "      <td>0</td>\n",
       "      <td>0</td>\n",
       "      <td>1</td>\n",
       "      <td>0</td>\n",
       "      <td>0</td>\n",
       "    </tr>\n",
       "    <tr>\n",
       "      <th>2</th>\n",
       "      <td>39936.762226</td>\n",
       "      <td>4.0</td>\n",
       "      <td>4.0</td>\n",
       "      <td>2.0</td>\n",
       "      <td>4.0</td>\n",
       "      <td>4.0</td>\n",
       "      <td>3.0</td>\n",
       "      <td>3.0</td>\n",
       "      <td>3.0</td>\n",
       "      <td>4.0</td>\n",
       "      <td>...</td>\n",
       "      <td>0</td>\n",
       "      <td>1</td>\n",
       "      <td>0</td>\n",
       "      <td>0</td>\n",
       "      <td>0</td>\n",
       "      <td>1</td>\n",
       "      <td>0</td>\n",
       "      <td>0</td>\n",
       "      <td>0</td>\n",
       "      <td>1</td>\n",
       "    </tr>\n",
       "    <tr>\n",
       "      <th>3</th>\n",
       "      <td>18925.230000</td>\n",
       "      <td>4.0</td>\n",
       "      <td>4.0</td>\n",
       "      <td>4.0</td>\n",
       "      <td>2.0</td>\n",
       "      <td>5.0</td>\n",
       "      <td>4.0</td>\n",
       "      <td>3.0</td>\n",
       "      <td>3.0</td>\n",
       "      <td>4.0</td>\n",
       "      <td>...</td>\n",
       "      <td>1</td>\n",
       "      <td>0</td>\n",
       "      <td>0</td>\n",
       "      <td>0</td>\n",
       "      <td>1</td>\n",
       "      <td>0</td>\n",
       "      <td>0</td>\n",
       "      <td>0</td>\n",
       "      <td>0</td>\n",
       "      <td>1</td>\n",
       "    </tr>\n",
       "    <tr>\n",
       "      <th>4</th>\n",
       "      <td>40074.190000</td>\n",
       "      <td>4.0</td>\n",
       "      <td>4.0</td>\n",
       "      <td>4.0</td>\n",
       "      <td>3.0</td>\n",
       "      <td>4.0</td>\n",
       "      <td>4.0</td>\n",
       "      <td>4.0</td>\n",
       "      <td>5.0</td>\n",
       "      <td>3.0</td>\n",
       "      <td>...</td>\n",
       "      <td>1</td>\n",
       "      <td>0</td>\n",
       "      <td>0</td>\n",
       "      <td>0</td>\n",
       "      <td>0</td>\n",
       "      <td>1</td>\n",
       "      <td>0</td>\n",
       "      <td>1</td>\n",
       "      <td>0</td>\n",
       "      <td>0</td>\n",
       "    </tr>\n",
       "    <tr>\n",
       "      <th>...</th>\n",
       "      <td>...</td>\n",
       "      <td>...</td>\n",
       "      <td>...</td>\n",
       "      <td>...</td>\n",
       "      <td>...</td>\n",
       "      <td>...</td>\n",
       "      <td>...</td>\n",
       "      <td>...</td>\n",
       "      <td>...</td>\n",
       "      <td>...</td>\n",
       "      <td>...</td>\n",
       "      <td>...</td>\n",
       "      <td>...</td>\n",
       "      <td>...</td>\n",
       "      <td>...</td>\n",
       "      <td>...</td>\n",
       "      <td>...</td>\n",
       "      <td>...</td>\n",
       "      <td>...</td>\n",
       "      <td>...</td>\n",
       "      <td>...</td>\n",
       "    </tr>\n",
       "    <tr>\n",
       "      <th>9995</th>\n",
       "      <td>55723.740000</td>\n",
       "      <td>3.0</td>\n",
       "      <td>2.0</td>\n",
       "      <td>3.0</td>\n",
       "      <td>3.0</td>\n",
       "      <td>4.0</td>\n",
       "      <td>3.0</td>\n",
       "      <td>2.0</td>\n",
       "      <td>3.0</td>\n",
       "      <td>4.0</td>\n",
       "      <td>...</td>\n",
       "      <td>0</td>\n",
       "      <td>0</td>\n",
       "      <td>0</td>\n",
       "      <td>0</td>\n",
       "      <td>1</td>\n",
       "      <td>0</td>\n",
       "      <td>0</td>\n",
       "      <td>1</td>\n",
       "      <td>0</td>\n",
       "      <td>0</td>\n",
       "    </tr>\n",
       "    <tr>\n",
       "      <th>9996</th>\n",
       "      <td>39936.762226</td>\n",
       "      <td>4.0</td>\n",
       "      <td>5.0</td>\n",
       "      <td>5.0</td>\n",
       "      <td>4.0</td>\n",
       "      <td>4.0</td>\n",
       "      <td>5.0</td>\n",
       "      <td>2.0</td>\n",
       "      <td>5.0</td>\n",
       "      <td>6.0</td>\n",
       "      <td>...</td>\n",
       "      <td>0</td>\n",
       "      <td>0</td>\n",
       "      <td>0</td>\n",
       "      <td>1</td>\n",
       "      <td>0</td>\n",
       "      <td>0</td>\n",
       "      <td>0</td>\n",
       "      <td>0</td>\n",
       "      <td>0</td>\n",
       "      <td>1</td>\n",
       "    </tr>\n",
       "    <tr>\n",
       "      <th>9997</th>\n",
       "      <td>39936.762226</td>\n",
       "      <td>4.0</td>\n",
       "      <td>4.0</td>\n",
       "      <td>4.0</td>\n",
       "      <td>4.0</td>\n",
       "      <td>4.0</td>\n",
       "      <td>4.0</td>\n",
       "      <td>4.0</td>\n",
       "      <td>5.0</td>\n",
       "      <td>5.0</td>\n",
       "      <td>...</td>\n",
       "      <td>0</td>\n",
       "      <td>0</td>\n",
       "      <td>1</td>\n",
       "      <td>0</td>\n",
       "      <td>0</td>\n",
       "      <td>0</td>\n",
       "      <td>0</td>\n",
       "      <td>1</td>\n",
       "      <td>0</td>\n",
       "      <td>0</td>\n",
       "    </tr>\n",
       "    <tr>\n",
       "      <th>9998</th>\n",
       "      <td>16667.580000</td>\n",
       "      <td>4.0</td>\n",
       "      <td>4.0</td>\n",
       "      <td>6.0</td>\n",
       "      <td>4.0</td>\n",
       "      <td>3.0</td>\n",
       "      <td>3.0</td>\n",
       "      <td>5.0</td>\n",
       "      <td>4.0</td>\n",
       "      <td>5.0</td>\n",
       "      <td>...</td>\n",
       "      <td>0</td>\n",
       "      <td>1</td>\n",
       "      <td>1</td>\n",
       "      <td>0</td>\n",
       "      <td>0</td>\n",
       "      <td>0</td>\n",
       "      <td>0</td>\n",
       "      <td>0</td>\n",
       "      <td>0</td>\n",
       "      <td>1</td>\n",
       "    </tr>\n",
       "    <tr>\n",
       "      <th>9999</th>\n",
       "      <td>39936.762226</td>\n",
       "      <td>2.0</td>\n",
       "      <td>2.0</td>\n",
       "      <td>3.0</td>\n",
       "      <td>3.0</td>\n",
       "      <td>3.0</td>\n",
       "      <td>3.0</td>\n",
       "      <td>4.0</td>\n",
       "      <td>1.0</td>\n",
       "      <td>7.0</td>\n",
       "      <td>...</td>\n",
       "      <td>0</td>\n",
       "      <td>1</td>\n",
       "      <td>1</td>\n",
       "      <td>0</td>\n",
       "      <td>0</td>\n",
       "      <td>0</td>\n",
       "      <td>0</td>\n",
       "      <td>1</td>\n",
       "      <td>0</td>\n",
       "      <td>0</td>\n",
       "    </tr>\n",
       "  </tbody>\n",
       "</table>\n",
       "<p>9978 rows × 21 columns</p>\n",
       "</div>"
      ],
      "text/plain": [
       "            Income  Timely_Response  Timely_Fixes  Timely_Replacement  \\\n",
       "0     28561.990000              5.0           5.0                 5.0   \n",
       "1     21704.770000              3.0           4.0                 3.0   \n",
       "2     39936.762226              4.0           4.0                 2.0   \n",
       "3     18925.230000              4.0           4.0                 4.0   \n",
       "4     40074.190000              4.0           4.0                 4.0   \n",
       "...            ...              ...           ...                 ...   \n",
       "9995  55723.740000              3.0           2.0                 3.0   \n",
       "9996  39936.762226              4.0           5.0                 5.0   \n",
       "9997  39936.762226              4.0           4.0                 4.0   \n",
       "9998  16667.580000              4.0           4.0                 6.0   \n",
       "9999  39936.762226              2.0           2.0                 3.0   \n",
       "\n",
       "      Reliability  Options  Respectable_Response  Courteous_Exchange  \\\n",
       "0             3.0      4.0                   4.0                 3.0   \n",
       "1             3.0      4.0                   3.0                 4.0   \n",
       "2             4.0      4.0                   3.0                 3.0   \n",
       "3             2.0      5.0                   4.0                 3.0   \n",
       "4             3.0      4.0                   4.0                 4.0   \n",
       "...           ...      ...                   ...                 ...   \n",
       "9995          3.0      4.0                   3.0                 2.0   \n",
       "9996          4.0      4.0                   5.0                 2.0   \n",
       "9997          4.0      4.0                   4.0                 4.0   \n",
       "9998          4.0      3.0                   3.0                 5.0   \n",
       "9999          3.0      3.0                   3.0                 4.0   \n",
       "\n",
       "      Evidence_of_active_listening  Sum_services  ...  Dummy_Suburban  \\\n",
       "0                              4.0           5.0  ...               0   \n",
       "1                              4.0           6.0  ...               0   \n",
       "2                              3.0           4.0  ...               0   \n",
       "3                              3.0           4.0  ...               1   \n",
       "4                              5.0           3.0  ...               1   \n",
       "...                            ...           ...  ...             ...   \n",
       "9995                           3.0           4.0  ...               0   \n",
       "9996                           5.0           6.0  ...               0   \n",
       "9997                           5.0           5.0  ...               0   \n",
       "9998                           4.0           5.0  ...               0   \n",
       "9999                           1.0           7.0  ...               0   \n",
       "\n",
       "      Dummy_Urban  Dummy_Full Time  Dummy_Part Time  Dummy_Retired  \\\n",
       "0               1                0                1              0   \n",
       "1               1                0                0              1   \n",
       "2               1                0                0              0   \n",
       "3               0                0                0              1   \n",
       "4               0                0                0              0   \n",
       "...           ...              ...              ...            ...   \n",
       "9995            0                0                0              1   \n",
       "9996            0                0                1              0   \n",
       "9997            0                1                0              0   \n",
       "9998            1                1                0              0   \n",
       "9999            1                1                0              0   \n",
       "\n",
       "      Dummy_Student  Dummy_Unemployed  Dummy_Month-to-month  Dummy_One year  \\\n",
       "0                 0                 0                     0               1   \n",
       "1                 0                 0                     1               0   \n",
       "2                 1                 0                     0               0   \n",
       "3                 0                 0                     0               0   \n",
       "4                 1                 0                     1               0   \n",
       "...             ...               ...                   ...             ...   \n",
       "9995              0                 0                     1               0   \n",
       "9996              0                 0                     0               0   \n",
       "9997              0                 0                     1               0   \n",
       "9998              0                 0                     0               0   \n",
       "9999              0                 0                     1               0   \n",
       "\n",
       "      Dummy_Two Year  \n",
       "0                  0  \n",
       "1                  0  \n",
       "2                  1  \n",
       "3                  1  \n",
       "4                  0  \n",
       "...              ...  \n",
       "9995               0  \n",
       "9996               1  \n",
       "9997               0  \n",
       "9998               1  \n",
       "9999               0  \n",
       "\n",
       "[9978 rows x 21 columns]"
      ]
     },
     "execution_count": 77,
     "metadata": {},
     "output_type": "execute_result"
    }
   ],
   "source": [
    "#Create new varaible for Predictor and Target Variable\n",
    "X=df_model\n",
    "y=df_cln[['Churn']]\n",
    "X"
   ]
  },
  {
   "cell_type": "code",
   "execution_count": 78,
   "id": "cecdf9a1",
   "metadata": {},
   "outputs": [],
   "source": [
    "# Create train/test sets and export them\n",
    "X_train, X_test, y_train, y_test = train_test_split(X, y, test_size=0.2, random_state=42)\n",
    "X_train.to_csv('Tele_Churn_X_train.csv',index=False)\n",
    "X_test.to_csv('Tele_Churn_X_test.csv',index=False)\n",
    "y_train.to_csv('Tele_Churn_y_train.csv',index=False)\n",
    "y_test.to_csv('Tele_Churn_y_test.csv',index=False)"
   ]
  },
  {
   "cell_type": "code",
   "execution_count": 79,
   "id": "ac66e19c",
   "metadata": {
    "scrolled": true
   },
   "outputs": [
    {
     "data": {
      "text/plain": [
       "0.6783567134268537"
      ]
     },
     "execution_count": 79,
     "metadata": {},
     "output_type": "execute_result"
    }
   ],
   "source": [
    "#KNN Model\n",
    "knn=KNeighborsClassifier()\n",
    "\n",
    "#Fit KNN model\n",
    "knn.fit(X_train,np.ravel(y_train))\n",
    "\n",
    "#Print Accuracy score of initial model\n",
    "knn.score(X_test,np.ravel(y_test))"
   ]
  },
  {
   "cell_type": "code",
   "execution_count": 80,
   "id": "b32082f7",
   "metadata": {},
   "outputs": [
    {
     "name": "stdout",
     "output_type": "stream",
     "text": [
      "Scale Data Accuracy Score:  0.7099198396793587\n",
      "Unscale Data Accuracy Score:  0.6783567134268537\n"
     ]
    }
   ],
   "source": [
    "# Set range of neighbors and create a standard pipeline\n",
    "k_range = range(1, 51)\n",
    "pipeline = Pipeline([( \"scaler\" , StandardScaler()),\n",
    "                       (\"knn\",KNeighborsClassifier())])\n",
    "\n",
    "#Initialize parameters to k_range\n",
    "parameters = {'knn__n_neighbors':k_range}\n",
    "\n",
    "# Initialize Grid_pipeline\n",
    "grid_pipeline = GridSearchCV(pipeline,parameters,scoring='accuracy')\n",
    "\n",
    "# Fit Grid_pipeline\n",
    "grid_pipeline.fit(X_train,np.ravel(y_train))\n",
    "\n",
    "#Create Scale/Unscale variables\n",
    "knn_scale=pipeline.fit(X_train, np.ravel(y_train))\n",
    "knn_unscale=knn.fit(X_train,np.ravel(y_train))\n",
    "\n",
    "#Print differences in scale/unscale data\n",
    "print('Scale Data Accuracy Score: ',knn_scale.score(X_test,np.ravel(y_test)))\n",
    "print('Unscale Data Accuracy Score: ',knn_unscale.score(X_test,np.ravel(y_test)))"
   ]
  },
  {
   "cell_type": "code",
   "execution_count": 81,
   "id": "eaf972c9",
   "metadata": {},
   "outputs": [
    {
     "name": "stdout",
     "output_type": "stream",
     "text": [
      "{'knn__n_neighbors': 45}\n"
     ]
    }
   ],
   "source": [
    "#Find the best n_neighbor parameter using grid_pipeline variable\n",
    "print(grid_pipeline.best_params_)"
   ]
  },
  {
   "cell_type": "code",
   "execution_count": 82,
   "id": "4afe7dae",
   "metadata": {},
   "outputs": [],
   "source": [
    "# Initialize a new KNN with new n_neighbor parameter\n",
    "knn2=KNeighborsClassifier(n_neighbors=45)"
   ]
  },
  {
   "cell_type": "code",
   "execution_count": 83,
   "id": "835c10fa",
   "metadata": {},
   "outputs": [],
   "source": [
    "# Setup the pipeline with new parameters\n",
    "steps2 = [('scaler', StandardScaler()),\n",
    "        ('knn', KNeighborsClassifier(n_neighbors=45))]\n",
    "        \n",
    "# Create the pipeline2\n",
    "pipeline2 = Pipeline(steps2)\n",
    "\n",
    "#Create Scale/Unscale variables\n",
    "knn_scale2=pipeline2.fit(X_train, np.ravel(y_train))\n",
    "knn_unscale2=knn2.fit(X_train,np.ravel(y_train))"
   ]
  },
  {
   "cell_type": "code",
   "execution_count": 84,
   "id": "afb0d4d3",
   "metadata": {},
   "outputs": [
    {
     "name": "stdout",
     "output_type": "stream",
     "text": [
      "Scale Data Accuracy Score:  0.7099198396793587\n",
      "Unscale Data Accuracy Score:  0.6783567134268537\n",
      "\n",
      "\n",
      "Scale Data with new parameter Accuracy Score:  0.7354709418837675\n",
      "Unscale Data with new parameter Accuracy Score:  0.7344689378757515\n"
     ]
    }
   ],
   "source": [
    "#Print differences in scale/unscale data\n",
    "print('Scale Data Accuracy Score: ',knn_scale.score(X_test,np.ravel(y_test)))\n",
    "print('Unscale Data Accuracy Score: ',knn_unscale.score(X_test,np.ravel(y_test)))\n",
    "print('\\n')\n",
    "#Print differences in scale/unscale data\n",
    "print('Scale Data with new parameter Accuracy Score: ',knn_scale2.score(X_test,np.ravel(y_test)))\n",
    "print('Unscale Data with new parameter Accuracy Score: ',knn_unscale2.score(X_test,np.ravel(y_test)))"
   ]
  },
  {
   "cell_type": "code",
   "execution_count": 85,
   "id": "447a75ae",
   "metadata": {},
   "outputs": [
    {
     "data": {
      "image/png": "[encoded data removed]",
      "text/plain": [
       "<Figure size 432x288 with 1 Axes>"
      ]
     },
     "metadata": {
      "needs_background": "light"
     },
     "output_type": "display_data"
    }
   ],
   "source": [
    "#Visualize KNN Model unscale data graph\n",
    "\n",
    "#Initialize variables\n",
    "k_scores=[]\n",
    "kk= range(1,51)\n",
    "\n",
    "# For loop to grab acurracy score at each k-level\n",
    "for k in kk:    \n",
    "    knn3 = KNeighborsClassifier(n_neighbors=k)\n",
    "    knn3.fit(X_train,np.ravel(y_train))\n",
    "    k_scores.append(knn3.score(X_test, np.ravel(y_test)))\n",
    "    #print(knn3.score(X_test, np.ravel(y_test)))\n",
    "     \n",
    "# Plot K_range and K_scores\n",
    "sns.lineplot(x=kk,y=k_scores)\n",
    "plt.show()"
   ]
  },
  {
   "cell_type": "code",
   "execution_count": 86,
   "id": "6e91929e",
   "metadata": {},
   "outputs": [
    {
     "data": {
      "image/png": "[encoded data removed]",
      "text/plain": [
       "<Figure size 432x288 with 1 Axes>"
      ]
     },
     "metadata": {
      "needs_background": "light"
     },
     "output_type": "display_data"
    }
   ],
   "source": [
    "#Visualize KNN Model scaled data graph\n",
    "\n",
    "#Initialize parameters\n",
    "k_scores2=[]\n",
    "kk= range(1,51)\n",
    "\n",
    "# For loop to grab acurracy score at each k-level\n",
    "for k in kk:    \n",
    "    # Setup the pipeline with new parameters\n",
    "    steps3 = [('scaler', StandardScaler()),\n",
    "              ('knn', KNeighborsClassifier(n_neighbors=k))]  \n",
    "    # Create the pipeline2\n",
    "    pipeline3 = Pipeline(steps3)\n",
    "    knn4_scale=pipeline3.fit(X_train, np.ravel(y_train))\n",
    "    k_scores2.append(knn4_scale.score(X_test,np.ravel(y_test)))\n",
    "    #print(knn4_scale.score(X_test,np.ravel(y_test)))\n",
    "     \n",
    "# Plot K_range and K_scores\n",
    "sns.lineplot(x=kk,y=k_scores2)\n",
    "plt.show()"
   ]
  },
  {
   "cell_type": "code",
   "execution_count": 87,
   "id": "50aae443",
   "metadata": {
    "scrolled": true
   },
   "outputs": [],
   "source": [
    "#Predict using unscaled data with new parameter n_neighbor=45\n",
    "y_pred=knn2.predict(X_test)\n",
    "\n",
    "#Predict using scaled data with new parameter n_neighbor=45\n",
    "y_pred_scaled=pipeline2.predict(X_test)"
   ]
  },
  {
   "cell_type": "code",
   "execution_count": 88,
   "id": "47633508",
   "metadata": {},
   "outputs": [
    {
     "name": "stdout",
     "output_type": "stream",
     "text": [
      "              precision    recall  f1-score   support\n",
      "\n",
      "         0.0       0.74      0.99      0.85      1458\n",
      "         1.0       0.62      0.04      0.07       538\n",
      "\n",
      "    accuracy                           0.73      1996\n",
      "   macro avg       0.68      0.51      0.46      1996\n",
      "weighted avg       0.71      0.73      0.64      1996\n",
      "\n"
     ]
    }
   ],
   "source": [
    "#Print classification report for Unscaled\n",
    "print(classification_report(y_test, y_pred))"
   ]
  },
  {
   "cell_type": "code",
   "execution_count": 89,
   "id": "2a2df226",
   "metadata": {
    "scrolled": false
   },
   "outputs": [
    {
     "name": "stdout",
     "output_type": "stream",
     "text": [
      "              precision    recall  f1-score   support\n",
      "\n",
      "         0.0       0.74      0.98      0.84      1458\n",
      "         1.0       0.57      0.08      0.13       538\n",
      "\n",
      "    accuracy                           0.74      1996\n",
      "   macro avg       0.66      0.53      0.49      1996\n",
      "weighted avg       0.70      0.74      0.65      1996\n",
      "\n"
     ]
    }
   ],
   "source": [
    "#Print classification report for Scaled\n",
    "print(classification_report(y_test, y_pred_scaled))"
   ]
  },
  {
   "cell_type": "code",
   "execution_count": 90,
   "id": "7482fb40",
   "metadata": {},
   "outputs": [
    {
     "name": "stdout",
     "output_type": "stream",
     "text": [
      "[[1427   31]\n",
      " [ 497   41]]\n",
      "accuracy:  0.7354709418837675\n",
      "sensitivity:  0.0762081784386617\n",
      "specificity:  0.9787379972565158\n"
     ]
    }
   ],
   "source": [
    "#Create confusion matrix\n",
    "c_m=cm(y_test, y_pred_scaled)\n",
    "print(c_m)\n",
    "\n",
    "#Check Accuracy/Sensitivity/Specifity of the Confusion Matrix\n",
    "TN = c_m[0,0]\n",
    "TP = c_m[1,1]\n",
    "FN = c_m[1,0]\n",
    "FP = c_m[0,1]\n",
    "\n",
    "# Calculate and print the accuracy\n",
    "accuracy = (TN+TP)/(TN+TP+FN+FP)\n",
    "print(\"accuracy: \", accuracy)\n",
    "\n",
    "# Calculate and print the sensitivity. Correctly identify as TP\n",
    "sensitivity = (TP/(FN+TP))\n",
    "print(\"sensitivity: \", sensitivity)\n",
    "\n",
    "# Calculate and print the specificity.  Correctly identify as TN\n",
    "specificity = (TN/(TN+FP))\n",
    "print(\"specificity: \", specificity)"
   ]
  },
  {
   "cell_type": "code",
   "execution_count": 91,
   "id": "ed6412be",
   "metadata": {
    "scrolled": false
   },
   "outputs": [
    {
     "data": {
      "image/png": "[encoded data removed]",
      "text/plain": [
       "<Figure size 432x288 with 2 Axes>"
      ]
     },
     "metadata": {
      "needs_background": "light"
     },
     "output_type": "display_data"
    }
   ],
   "source": [
    "#Plot a Heatmap of the confusion matrix\n",
    "cm_heat = sns.heatmap(c_m, annot=True, cmap='Blues')\n",
    "cm_heat.set_title('Confusion Matrix\\n\\n');\n",
    "cm_heat.set_xlabel('\\nPredicted Values')\n",
    "cm_heat.set_ylabel('Actual Values ');\n",
    "cm_heat.xaxis.set_ticklabels(['False','True'])\n",
    "cm_heat.yaxis.set_ticklabels(['False','True'])\n",
    "plt.show()"
   ]
  },
  {
   "cell_type": "code",
   "execution_count": 92,
   "id": "b1ce9204",
   "metadata": {},
   "outputs": [
    {
     "name": "stdout",
     "output_type": "stream",
     "text": [
      "[0.33333333 0.13333333 0.26666667 0.31111111 0.28888889]\n"
     ]
    }
   ],
   "source": [
    "#Prediction KNN\n",
    "predictions = pipeline2.predict_proba(X_test)\n",
    "predictions_target=predictions[:,1]\n",
    "print(predictions_target[0:5])"
   ]
  },
  {
   "cell_type": "code",
   "execution_count": 93,
   "id": "dade7937",
   "metadata": {},
   "outputs": [
    {
     "name": "stdout",
     "output_type": "stream",
     "text": [
      "0.71\n"
     ]
    }
   ],
   "source": [
    "#Calculate auc Score\n",
    "auc = roc_auc_score(y_test, predictions_target)\n",
    "print(round(auc,2))"
   ]
  },
  {
   "cell_type": "code",
   "execution_count": 94,
   "id": "7f30899a",
   "metadata": {
    "scrolled": false
   },
   "outputs": [
    {
     "name": "stdout",
     "output_type": "stream",
     "text": [
      "10-Fold cross-validation [0.73       0.725      0.735      0.72       0.74       0.715\n",
      " 0.72864322 0.71356784 0.73869347 0.72864322]\n"
     ]
    }
   ],
   "source": [
    "#Cross validation\n",
    "c_valid = cross_val_score(pipeline2, X_test, np.ravel(y_test), cv=10, scoring='accuracy')\n",
    "\n",
    "#Print Cross Validation\n",
    "print('10-Fold cross-validation', c_valid)"
   ]
  },
  {
   "cell_type": "code",
   "execution_count": null,
   "id": "37d403a2",
   "metadata": {},
   "outputs": [],
   "source": []
  }
 ],
 "metadata": {
  "kernelspec": {
   "display_name": "Python 3 (ipykernel)",
   "language": "python",
   "name": "python3"
  },
  "language_info": {
   "codemirror_mode": {
    "name": "ipython",
    "version": 3
   },
   "file_extension": ".py",
   "mimetype": "text/x-python",
   "name": "python",
   "nbconvert_exporter": "python",
   "pygments_lexer": "ipython3",
   "version": "3.11.4"
  }
 },
 "nbformat": 4,
 "nbformat_minor": 5
}
